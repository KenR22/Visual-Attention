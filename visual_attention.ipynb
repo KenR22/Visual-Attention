{
  "nbformat": 4,
  "nbformat_minor": 0,
  "metadata": {
    "accelerator": "GPU",
    "colab": {
      "name": "visual_attention.ipynb",
      "provenance": [],
      "collapsed_sections": []
    },
    "kernelspec": {
      "display_name": "Python 3",
      "name": "python3"
    },
    "widgets": {
      "application/vnd.jupyter.widget-state+json": {
        "617563fcf97e43dbb015ea8cc4f8b656": {
          "model_module": "@jupyter-widgets/controls",
          "model_name": "HBoxModel",
          "state": {
            "_view_name": "HBoxView",
            "_dom_classes": [],
            "_model_name": "HBoxModel",
            "_view_module": "@jupyter-widgets/controls",
            "_model_module_version": "1.5.0",
            "_view_count": null,
            "_view_module_version": "1.5.0",
            "box_style": "",
            "layout": "IPY_MODEL_eaacd47a591f4cacaa0411fed0b8e9b6",
            "_model_module": "@jupyter-widgets/controls",
            "children": [
              "IPY_MODEL_59b279b8dc3e4bcdaeaf069dc25b625a",
              "IPY_MODEL_797f73dd75d9407290e25c39781c3e61"
            ]
          }
        },
        "eaacd47a591f4cacaa0411fed0b8e9b6": {
          "model_module": "@jupyter-widgets/base",
          "model_name": "LayoutModel",
          "state": {
            "_view_name": "LayoutView",
            "grid_template_rows": null,
            "right": null,
            "justify_content": null,
            "_view_module": "@jupyter-widgets/base",
            "overflow": null,
            "_model_module_version": "1.2.0",
            "_view_count": null,
            "flex_flow": null,
            "width": null,
            "min_width": null,
            "border": null,
            "align_items": null,
            "bottom": null,
            "_model_module": "@jupyter-widgets/base",
            "top": null,
            "grid_column": null,
            "overflow_y": null,
            "overflow_x": null,
            "grid_auto_flow": null,
            "grid_area": null,
            "grid_template_columns": null,
            "flex": null,
            "_model_name": "LayoutModel",
            "justify_items": null,
            "grid_row": null,
            "max_height": null,
            "align_content": null,
            "visibility": null,
            "align_self": null,
            "height": null,
            "min_height": null,
            "padding": null,
            "grid_auto_rows": null,
            "grid_gap": null,
            "max_width": null,
            "order": null,
            "_view_module_version": "1.2.0",
            "grid_template_areas": null,
            "object_position": null,
            "object_fit": null,
            "grid_auto_columns": null,
            "margin": null,
            "display": null,
            "left": null
          }
        },
        "59b279b8dc3e4bcdaeaf069dc25b625a": {
          "model_module": "@jupyter-widgets/controls",
          "model_name": "FloatProgressModel",
          "state": {
            "_view_name": "ProgressView",
            "style": "IPY_MODEL_2748e5f565b046dcbdf3b503bafd1bca",
            "_dom_classes": [],
            "description": "",
            "_model_name": "FloatProgressModel",
            "bar_style": "success",
            "max": 1,
            "_view_module": "@jupyter-widgets/controls",
            "_model_module_version": "1.5.0",
            "value": 1,
            "_view_count": null,
            "_view_module_version": "1.5.0",
            "orientation": "horizontal",
            "min": 0,
            "description_tooltip": null,
            "_model_module": "@jupyter-widgets/controls",
            "layout": "IPY_MODEL_52bcf04cc558472581ec7abd406f7525"
          }
        },
        "797f73dd75d9407290e25c39781c3e61": {
          "model_module": "@jupyter-widgets/controls",
          "model_name": "HTMLModel",
          "state": {
            "_view_name": "HTMLView",
            "style": "IPY_MODEL_6b06db567fef4e15b8e32241028f8e3b",
            "_dom_classes": [],
            "description": "",
            "_model_name": "HTMLModel",
            "placeholder": "​",
            "_view_module": "@jupyter-widgets/controls",
            "_model_module_version": "1.5.0",
            "value": " 9920512/? [00:05&lt;00:00, 1893003.02it/s]",
            "_view_count": null,
            "_view_module_version": "1.5.0",
            "description_tooltip": null,
            "_model_module": "@jupyter-widgets/controls",
            "layout": "IPY_MODEL_2eac52b3aec2417b9473c92b666b9b8e"
          }
        },
        "2748e5f565b046dcbdf3b503bafd1bca": {
          "model_module": "@jupyter-widgets/controls",
          "model_name": "ProgressStyleModel",
          "state": {
            "_view_name": "StyleView",
            "_model_name": "ProgressStyleModel",
            "description_width": "initial",
            "_view_module": "@jupyter-widgets/base",
            "_model_module_version": "1.5.0",
            "_view_count": null,
            "_view_module_version": "1.2.0",
            "bar_color": null,
            "_model_module": "@jupyter-widgets/controls"
          }
        },
        "52bcf04cc558472581ec7abd406f7525": {
          "model_module": "@jupyter-widgets/base",
          "model_name": "LayoutModel",
          "state": {
            "_view_name": "LayoutView",
            "grid_template_rows": null,
            "right": null,
            "justify_content": null,
            "_view_module": "@jupyter-widgets/base",
            "overflow": null,
            "_model_module_version": "1.2.0",
            "_view_count": null,
            "flex_flow": null,
            "width": null,
            "min_width": null,
            "border": null,
            "align_items": null,
            "bottom": null,
            "_model_module": "@jupyter-widgets/base",
            "top": null,
            "grid_column": null,
            "overflow_y": null,
            "overflow_x": null,
            "grid_auto_flow": null,
            "grid_area": null,
            "grid_template_columns": null,
            "flex": null,
            "_model_name": "LayoutModel",
            "justify_items": null,
            "grid_row": null,
            "max_height": null,
            "align_content": null,
            "visibility": null,
            "align_self": null,
            "height": null,
            "min_height": null,
            "padding": null,
            "grid_auto_rows": null,
            "grid_gap": null,
            "max_width": null,
            "order": null,
            "_view_module_version": "1.2.0",
            "grid_template_areas": null,
            "object_position": null,
            "object_fit": null,
            "grid_auto_columns": null,
            "margin": null,
            "display": null,
            "left": null
          }
        },
        "6b06db567fef4e15b8e32241028f8e3b": {
          "model_module": "@jupyter-widgets/controls",
          "model_name": "DescriptionStyleModel",
          "state": {
            "_view_name": "StyleView",
            "_model_name": "DescriptionStyleModel",
            "description_width": "",
            "_view_module": "@jupyter-widgets/base",
            "_model_module_version": "1.5.0",
            "_view_count": null,
            "_view_module_version": "1.2.0",
            "_model_module": "@jupyter-widgets/controls"
          }
        },
        "2eac52b3aec2417b9473c92b666b9b8e": {
          "model_module": "@jupyter-widgets/base",
          "model_name": "LayoutModel",
          "state": {
            "_view_name": "LayoutView",
            "grid_template_rows": null,
            "right": null,
            "justify_content": null,
            "_view_module": "@jupyter-widgets/base",
            "overflow": null,
            "_model_module_version": "1.2.0",
            "_view_count": null,
            "flex_flow": null,
            "width": null,
            "min_width": null,
            "border": null,
            "align_items": null,
            "bottom": null,
            "_model_module": "@jupyter-widgets/base",
            "top": null,
            "grid_column": null,
            "overflow_y": null,
            "overflow_x": null,
            "grid_auto_flow": null,
            "grid_area": null,
            "grid_template_columns": null,
            "flex": null,
            "_model_name": "LayoutModel",
            "justify_items": null,
            "grid_row": null,
            "max_height": null,
            "align_content": null,
            "visibility": null,
            "align_self": null,
            "height": null,
            "min_height": null,
            "padding": null,
            "grid_auto_rows": null,
            "grid_gap": null,
            "max_width": null,
            "order": null,
            "_view_module_version": "1.2.0",
            "grid_template_areas": null,
            "object_position": null,
            "object_fit": null,
            "grid_auto_columns": null,
            "margin": null,
            "display": null,
            "left": null
          }
        },
        "73d943acf1df4c86a6c156ca612f653d": {
          "model_module": "@jupyter-widgets/controls",
          "model_name": "HBoxModel",
          "state": {
            "_view_name": "HBoxView",
            "_dom_classes": [],
            "_model_name": "HBoxModel",
            "_view_module": "@jupyter-widgets/controls",
            "_model_module_version": "1.5.0",
            "_view_count": null,
            "_view_module_version": "1.5.0",
            "box_style": "",
            "layout": "IPY_MODEL_f10b96f1ab05464389bc3ed5abbb3324",
            "_model_module": "@jupyter-widgets/controls",
            "children": [
              "IPY_MODEL_efea85795a7c43dabfd2db279d286137",
              "IPY_MODEL_9cf614421fa243fe912abeb4fb532077"
            ]
          }
        },
        "f10b96f1ab05464389bc3ed5abbb3324": {
          "model_module": "@jupyter-widgets/base",
          "model_name": "LayoutModel",
          "state": {
            "_view_name": "LayoutView",
            "grid_template_rows": null,
            "right": null,
            "justify_content": null,
            "_view_module": "@jupyter-widgets/base",
            "overflow": null,
            "_model_module_version": "1.2.0",
            "_view_count": null,
            "flex_flow": null,
            "width": null,
            "min_width": null,
            "border": null,
            "align_items": null,
            "bottom": null,
            "_model_module": "@jupyter-widgets/base",
            "top": null,
            "grid_column": null,
            "overflow_y": null,
            "overflow_x": null,
            "grid_auto_flow": null,
            "grid_area": null,
            "grid_template_columns": null,
            "flex": null,
            "_model_name": "LayoutModel",
            "justify_items": null,
            "grid_row": null,
            "max_height": null,
            "align_content": null,
            "visibility": null,
            "align_self": null,
            "height": null,
            "min_height": null,
            "padding": null,
            "grid_auto_rows": null,
            "grid_gap": null,
            "max_width": null,
            "order": null,
            "_view_module_version": "1.2.0",
            "grid_template_areas": null,
            "object_position": null,
            "object_fit": null,
            "grid_auto_columns": null,
            "margin": null,
            "display": null,
            "left": null
          }
        },
        "efea85795a7c43dabfd2db279d286137": {
          "model_module": "@jupyter-widgets/controls",
          "model_name": "FloatProgressModel",
          "state": {
            "_view_name": "ProgressView",
            "style": "IPY_MODEL_424c0103489144fdbf49bbd87fb953bc",
            "_dom_classes": [],
            "description": "",
            "_model_name": "FloatProgressModel",
            "bar_style": "success",
            "max": 1,
            "_view_module": "@jupyter-widgets/controls",
            "_model_module_version": "1.5.0",
            "value": 1,
            "_view_count": null,
            "_view_module_version": "1.5.0",
            "orientation": "horizontal",
            "min": 0,
            "description_tooltip": null,
            "_model_module": "@jupyter-widgets/controls",
            "layout": "IPY_MODEL_18c581f874b14a488b726d735aed54e6"
          }
        },
        "9cf614421fa243fe912abeb4fb532077": {
          "model_module": "@jupyter-widgets/controls",
          "model_name": "HTMLModel",
          "state": {
            "_view_name": "HTMLView",
            "style": "IPY_MODEL_8b4eecd2fedc456fbde853aad81075bb",
            "_dom_classes": [],
            "description": "",
            "_model_name": "HTMLModel",
            "placeholder": "​",
            "_view_module": "@jupyter-widgets/controls",
            "_model_module_version": "1.5.0",
            "value": " 32768/? [00:02&lt;00:00, 13440.91it/s]",
            "_view_count": null,
            "_view_module_version": "1.5.0",
            "description_tooltip": null,
            "_model_module": "@jupyter-widgets/controls",
            "layout": "IPY_MODEL_9c325ca45c0849ef9a055d87515c07e1"
          }
        },
        "424c0103489144fdbf49bbd87fb953bc": {
          "model_module": "@jupyter-widgets/controls",
          "model_name": "ProgressStyleModel",
          "state": {
            "_view_name": "StyleView",
            "_model_name": "ProgressStyleModel",
            "description_width": "initial",
            "_view_module": "@jupyter-widgets/base",
            "_model_module_version": "1.5.0",
            "_view_count": null,
            "_view_module_version": "1.2.0",
            "bar_color": null,
            "_model_module": "@jupyter-widgets/controls"
          }
        },
        "18c581f874b14a488b726d735aed54e6": {
          "model_module": "@jupyter-widgets/base",
          "model_name": "LayoutModel",
          "state": {
            "_view_name": "LayoutView",
            "grid_template_rows": null,
            "right": null,
            "justify_content": null,
            "_view_module": "@jupyter-widgets/base",
            "overflow": null,
            "_model_module_version": "1.2.0",
            "_view_count": null,
            "flex_flow": null,
            "width": null,
            "min_width": null,
            "border": null,
            "align_items": null,
            "bottom": null,
            "_model_module": "@jupyter-widgets/base",
            "top": null,
            "grid_column": null,
            "overflow_y": null,
            "overflow_x": null,
            "grid_auto_flow": null,
            "grid_area": null,
            "grid_template_columns": null,
            "flex": null,
            "_model_name": "LayoutModel",
            "justify_items": null,
            "grid_row": null,
            "max_height": null,
            "align_content": null,
            "visibility": null,
            "align_self": null,
            "height": null,
            "min_height": null,
            "padding": null,
            "grid_auto_rows": null,
            "grid_gap": null,
            "max_width": null,
            "order": null,
            "_view_module_version": "1.2.0",
            "grid_template_areas": null,
            "object_position": null,
            "object_fit": null,
            "grid_auto_columns": null,
            "margin": null,
            "display": null,
            "left": null
          }
        },
        "8b4eecd2fedc456fbde853aad81075bb": {
          "model_module": "@jupyter-widgets/controls",
          "model_name": "DescriptionStyleModel",
          "state": {
            "_view_name": "StyleView",
            "_model_name": "DescriptionStyleModel",
            "description_width": "",
            "_view_module": "@jupyter-widgets/base",
            "_model_module_version": "1.5.0",
            "_view_count": null,
            "_view_module_version": "1.2.0",
            "_model_module": "@jupyter-widgets/controls"
          }
        },
        "9c325ca45c0849ef9a055d87515c07e1": {
          "model_module": "@jupyter-widgets/base",
          "model_name": "LayoutModel",
          "state": {
            "_view_name": "LayoutView",
            "grid_template_rows": null,
            "right": null,
            "justify_content": null,
            "_view_module": "@jupyter-widgets/base",
            "overflow": null,
            "_model_module_version": "1.2.0",
            "_view_count": null,
            "flex_flow": null,
            "width": null,
            "min_width": null,
            "border": null,
            "align_items": null,
            "bottom": null,
            "_model_module": "@jupyter-widgets/base",
            "top": null,
            "grid_column": null,
            "overflow_y": null,
            "overflow_x": null,
            "grid_auto_flow": null,
            "grid_area": null,
            "grid_template_columns": null,
            "flex": null,
            "_model_name": "LayoutModel",
            "justify_items": null,
            "grid_row": null,
            "max_height": null,
            "align_content": null,
            "visibility": null,
            "align_self": null,
            "height": null,
            "min_height": null,
            "padding": null,
            "grid_auto_rows": null,
            "grid_gap": null,
            "max_width": null,
            "order": null,
            "_view_module_version": "1.2.0",
            "grid_template_areas": null,
            "object_position": null,
            "object_fit": null,
            "grid_auto_columns": null,
            "margin": null,
            "display": null,
            "left": null
          }
        },
        "aad6bbfec11449609ee8ae9d8c67dde4": {
          "model_module": "@jupyter-widgets/controls",
          "model_name": "HBoxModel",
          "state": {
            "_view_name": "HBoxView",
            "_dom_classes": [],
            "_model_name": "HBoxModel",
            "_view_module": "@jupyter-widgets/controls",
            "_model_module_version": "1.5.0",
            "_view_count": null,
            "_view_module_version": "1.5.0",
            "box_style": "",
            "layout": "IPY_MODEL_8c67a666ed674ec592e3c4bc8ae0582e",
            "_model_module": "@jupyter-widgets/controls",
            "children": [
              "IPY_MODEL_46acf0c46a7c493fad4ba662dd0b0eef",
              "IPY_MODEL_0a4414c8b10f4b8f8397ac0af0eda491"
            ]
          }
        },
        "8c67a666ed674ec592e3c4bc8ae0582e": {
          "model_module": "@jupyter-widgets/base",
          "model_name": "LayoutModel",
          "state": {
            "_view_name": "LayoutView",
            "grid_template_rows": null,
            "right": null,
            "justify_content": null,
            "_view_module": "@jupyter-widgets/base",
            "overflow": null,
            "_model_module_version": "1.2.0",
            "_view_count": null,
            "flex_flow": null,
            "width": null,
            "min_width": null,
            "border": null,
            "align_items": null,
            "bottom": null,
            "_model_module": "@jupyter-widgets/base",
            "top": null,
            "grid_column": null,
            "overflow_y": null,
            "overflow_x": null,
            "grid_auto_flow": null,
            "grid_area": null,
            "grid_template_columns": null,
            "flex": null,
            "_model_name": "LayoutModel",
            "justify_items": null,
            "grid_row": null,
            "max_height": null,
            "align_content": null,
            "visibility": null,
            "align_self": null,
            "height": null,
            "min_height": null,
            "padding": null,
            "grid_auto_rows": null,
            "grid_gap": null,
            "max_width": null,
            "order": null,
            "_view_module_version": "1.2.0",
            "grid_template_areas": null,
            "object_position": null,
            "object_fit": null,
            "grid_auto_columns": null,
            "margin": null,
            "display": null,
            "left": null
          }
        },
        "46acf0c46a7c493fad4ba662dd0b0eef": {
          "model_module": "@jupyter-widgets/controls",
          "model_name": "FloatProgressModel",
          "state": {
            "_view_name": "ProgressView",
            "style": "IPY_MODEL_f8e86fb5e85e4ce691b674d00a3d4b05",
            "_dom_classes": [],
            "description": "",
            "_model_name": "FloatProgressModel",
            "bar_style": "success",
            "max": 1,
            "_view_module": "@jupyter-widgets/controls",
            "_model_module_version": "1.5.0",
            "value": 1,
            "_view_count": null,
            "_view_module_version": "1.5.0",
            "orientation": "horizontal",
            "min": 0,
            "description_tooltip": null,
            "_model_module": "@jupyter-widgets/controls",
            "layout": "IPY_MODEL_66630605c65b4e2ca0301fbc3320bcd9"
          }
        },
        "0a4414c8b10f4b8f8397ac0af0eda491": {
          "model_module": "@jupyter-widgets/controls",
          "model_name": "HTMLModel",
          "state": {
            "_view_name": "HTMLView",
            "style": "IPY_MODEL_809f35ed5f6942e680e80118b6f97f2f",
            "_dom_classes": [],
            "description": "",
            "_model_name": "HTMLModel",
            "placeholder": "​",
            "_view_module": "@jupyter-widgets/controls",
            "_model_module_version": "1.5.0",
            "value": " 1654784/? [00:01&lt;00:00, 942811.63it/s]",
            "_view_count": null,
            "_view_module_version": "1.5.0",
            "description_tooltip": null,
            "_model_module": "@jupyter-widgets/controls",
            "layout": "IPY_MODEL_c9737d703cf947518b84c5b363263b8f"
          }
        },
        "f8e86fb5e85e4ce691b674d00a3d4b05": {
          "model_module": "@jupyter-widgets/controls",
          "model_name": "ProgressStyleModel",
          "state": {
            "_view_name": "StyleView",
            "_model_name": "ProgressStyleModel",
            "description_width": "initial",
            "_view_module": "@jupyter-widgets/base",
            "_model_module_version": "1.5.0",
            "_view_count": null,
            "_view_module_version": "1.2.0",
            "bar_color": null,
            "_model_module": "@jupyter-widgets/controls"
          }
        },
        "66630605c65b4e2ca0301fbc3320bcd9": {
          "model_module": "@jupyter-widgets/base",
          "model_name": "LayoutModel",
          "state": {
            "_view_name": "LayoutView",
            "grid_template_rows": null,
            "right": null,
            "justify_content": null,
            "_view_module": "@jupyter-widgets/base",
            "overflow": null,
            "_model_module_version": "1.2.0",
            "_view_count": null,
            "flex_flow": null,
            "width": null,
            "min_width": null,
            "border": null,
            "align_items": null,
            "bottom": null,
            "_model_module": "@jupyter-widgets/base",
            "top": null,
            "grid_column": null,
            "overflow_y": null,
            "overflow_x": null,
            "grid_auto_flow": null,
            "grid_area": null,
            "grid_template_columns": null,
            "flex": null,
            "_model_name": "LayoutModel",
            "justify_items": null,
            "grid_row": null,
            "max_height": null,
            "align_content": null,
            "visibility": null,
            "align_self": null,
            "height": null,
            "min_height": null,
            "padding": null,
            "grid_auto_rows": null,
            "grid_gap": null,
            "max_width": null,
            "order": null,
            "_view_module_version": "1.2.0",
            "grid_template_areas": null,
            "object_position": null,
            "object_fit": null,
            "grid_auto_columns": null,
            "margin": null,
            "display": null,
            "left": null
          }
        },
        "809f35ed5f6942e680e80118b6f97f2f": {
          "model_module": "@jupyter-widgets/controls",
          "model_name": "DescriptionStyleModel",
          "state": {
            "_view_name": "StyleView",
            "_model_name": "DescriptionStyleModel",
            "description_width": "",
            "_view_module": "@jupyter-widgets/base",
            "_model_module_version": "1.5.0",
            "_view_count": null,
            "_view_module_version": "1.2.0",
            "_model_module": "@jupyter-widgets/controls"
          }
        },
        "c9737d703cf947518b84c5b363263b8f": {
          "model_module": "@jupyter-widgets/base",
          "model_name": "LayoutModel",
          "state": {
            "_view_name": "LayoutView",
            "grid_template_rows": null,
            "right": null,
            "justify_content": null,
            "_view_module": "@jupyter-widgets/base",
            "overflow": null,
            "_model_module_version": "1.2.0",
            "_view_count": null,
            "flex_flow": null,
            "width": null,
            "min_width": null,
            "border": null,
            "align_items": null,
            "bottom": null,
            "_model_module": "@jupyter-widgets/base",
            "top": null,
            "grid_column": null,
            "overflow_y": null,
            "overflow_x": null,
            "grid_auto_flow": null,
            "grid_area": null,
            "grid_template_columns": null,
            "flex": null,
            "_model_name": "LayoutModel",
            "justify_items": null,
            "grid_row": null,
            "max_height": null,
            "align_content": null,
            "visibility": null,
            "align_self": null,
            "height": null,
            "min_height": null,
            "padding": null,
            "grid_auto_rows": null,
            "grid_gap": null,
            "max_width": null,
            "order": null,
            "_view_module_version": "1.2.0",
            "grid_template_areas": null,
            "object_position": null,
            "object_fit": null,
            "grid_auto_columns": null,
            "margin": null,
            "display": null,
            "left": null
          }
        },
        "9713dc1031624665bcb734a7084033c0": {
          "model_module": "@jupyter-widgets/controls",
          "model_name": "HBoxModel",
          "state": {
            "_view_name": "HBoxView",
            "_dom_classes": [],
            "_model_name": "HBoxModel",
            "_view_module": "@jupyter-widgets/controls",
            "_model_module_version": "1.5.0",
            "_view_count": null,
            "_view_module_version": "1.5.0",
            "box_style": "",
            "layout": "IPY_MODEL_f26e76ddf4e9492e9f9d235c8d2d34b3",
            "_model_module": "@jupyter-widgets/controls",
            "children": [
              "IPY_MODEL_4b7753a5a2884998a21de6f982a8fcee",
              "IPY_MODEL_c4db99c478a74a2886bcdeff460e5ea8"
            ]
          }
        },
        "f26e76ddf4e9492e9f9d235c8d2d34b3": {
          "model_module": "@jupyter-widgets/base",
          "model_name": "LayoutModel",
          "state": {
            "_view_name": "LayoutView",
            "grid_template_rows": null,
            "right": null,
            "justify_content": null,
            "_view_module": "@jupyter-widgets/base",
            "overflow": null,
            "_model_module_version": "1.2.0",
            "_view_count": null,
            "flex_flow": null,
            "width": null,
            "min_width": null,
            "border": null,
            "align_items": null,
            "bottom": null,
            "_model_module": "@jupyter-widgets/base",
            "top": null,
            "grid_column": null,
            "overflow_y": null,
            "overflow_x": null,
            "grid_auto_flow": null,
            "grid_area": null,
            "grid_template_columns": null,
            "flex": null,
            "_model_name": "LayoutModel",
            "justify_items": null,
            "grid_row": null,
            "max_height": null,
            "align_content": null,
            "visibility": null,
            "align_self": null,
            "height": null,
            "min_height": null,
            "padding": null,
            "grid_auto_rows": null,
            "grid_gap": null,
            "max_width": null,
            "order": null,
            "_view_module_version": "1.2.0",
            "grid_template_areas": null,
            "object_position": null,
            "object_fit": null,
            "grid_auto_columns": null,
            "margin": null,
            "display": null,
            "left": null
          }
        },
        "4b7753a5a2884998a21de6f982a8fcee": {
          "model_module": "@jupyter-widgets/controls",
          "model_name": "FloatProgressModel",
          "state": {
            "_view_name": "ProgressView",
            "style": "IPY_MODEL_5de32c7d75f24201a0a4bd89bffbb3b6",
            "_dom_classes": [],
            "description": "  0%",
            "_model_name": "FloatProgressModel",
            "bar_style": "info",
            "max": 1,
            "_view_module": "@jupyter-widgets/controls",
            "_model_module_version": "1.5.0",
            "value": 0,
            "_view_count": null,
            "_view_module_version": "1.5.0",
            "orientation": "horizontal",
            "min": 0,
            "description_tooltip": null,
            "_model_module": "@jupyter-widgets/controls",
            "layout": "IPY_MODEL_f93d00c222164278b68849b0dc3e03fe"
          }
        },
        "c4db99c478a74a2886bcdeff460e5ea8": {
          "model_module": "@jupyter-widgets/controls",
          "model_name": "HTMLModel",
          "state": {
            "_view_name": "HTMLView",
            "style": "IPY_MODEL_f4e194ba8fca4b0c96915ab5b49fc3ff",
            "_dom_classes": [],
            "description": "",
            "_model_name": "HTMLModel",
            "placeholder": "​",
            "_view_module": "@jupyter-widgets/controls",
            "_model_module_version": "1.5.0",
            "value": " 0/4542 [00:00&lt;?, ?it/s]",
            "_view_count": null,
            "_view_module_version": "1.5.0",
            "description_tooltip": null,
            "_model_module": "@jupyter-widgets/controls",
            "layout": "IPY_MODEL_3e961f5bd5bb4c43be0f1711c82e2d5f"
          }
        },
        "5de32c7d75f24201a0a4bd89bffbb3b6": {
          "model_module": "@jupyter-widgets/controls",
          "model_name": "ProgressStyleModel",
          "state": {
            "_view_name": "StyleView",
            "_model_name": "ProgressStyleModel",
            "description_width": "initial",
            "_view_module": "@jupyter-widgets/base",
            "_model_module_version": "1.5.0",
            "_view_count": null,
            "_view_module_version": "1.2.0",
            "bar_color": null,
            "_model_module": "@jupyter-widgets/controls"
          }
        },
        "f93d00c222164278b68849b0dc3e03fe": {
          "model_module": "@jupyter-widgets/base",
          "model_name": "LayoutModel",
          "state": {
            "_view_name": "LayoutView",
            "grid_template_rows": null,
            "right": null,
            "justify_content": null,
            "_view_module": "@jupyter-widgets/base",
            "overflow": null,
            "_model_module_version": "1.2.0",
            "_view_count": null,
            "flex_flow": null,
            "width": null,
            "min_width": null,
            "border": null,
            "align_items": null,
            "bottom": null,
            "_model_module": "@jupyter-widgets/base",
            "top": null,
            "grid_column": null,
            "overflow_y": null,
            "overflow_x": null,
            "grid_auto_flow": null,
            "grid_area": null,
            "grid_template_columns": null,
            "flex": null,
            "_model_name": "LayoutModel",
            "justify_items": null,
            "grid_row": null,
            "max_height": null,
            "align_content": null,
            "visibility": null,
            "align_self": null,
            "height": null,
            "min_height": null,
            "padding": null,
            "grid_auto_rows": null,
            "grid_gap": null,
            "max_width": null,
            "order": null,
            "_view_module_version": "1.2.0",
            "grid_template_areas": null,
            "object_position": null,
            "object_fit": null,
            "grid_auto_columns": null,
            "margin": null,
            "display": null,
            "left": null
          }
        },
        "f4e194ba8fca4b0c96915ab5b49fc3ff": {
          "model_module": "@jupyter-widgets/controls",
          "model_name": "DescriptionStyleModel",
          "state": {
            "_view_name": "StyleView",
            "_model_name": "DescriptionStyleModel",
            "description_width": "",
            "_view_module": "@jupyter-widgets/base",
            "_model_module_version": "1.5.0",
            "_view_count": null,
            "_view_module_version": "1.2.0",
            "_model_module": "@jupyter-widgets/controls"
          }
        },
        "3e961f5bd5bb4c43be0f1711c82e2d5f": {
          "model_module": "@jupyter-widgets/base",
          "model_name": "LayoutModel",
          "state": {
            "_view_name": "LayoutView",
            "grid_template_rows": null,
            "right": null,
            "justify_content": null,
            "_view_module": "@jupyter-widgets/base",
            "overflow": null,
            "_model_module_version": "1.2.0",
            "_view_count": null,
            "flex_flow": null,
            "width": null,
            "min_width": null,
            "border": null,
            "align_items": null,
            "bottom": null,
            "_model_module": "@jupyter-widgets/base",
            "top": null,
            "grid_column": null,
            "overflow_y": null,
            "overflow_x": null,
            "grid_auto_flow": null,
            "grid_area": null,
            "grid_template_columns": null,
            "flex": null,
            "_model_name": "LayoutModel",
            "justify_items": null,
            "grid_row": null,
            "max_height": null,
            "align_content": null,
            "visibility": null,
            "align_self": null,
            "height": null,
            "min_height": null,
            "padding": null,
            "grid_auto_rows": null,
            "grid_gap": null,
            "max_width": null,
            "order": null,
            "_view_module_version": "1.2.0",
            "grid_template_areas": null,
            "object_position": null,
            "object_fit": null,
            "grid_auto_columns": null,
            "margin": null,
            "display": null,
            "left": null
          }
        }
      }
    }
  },
  "cells": [
    {
      "cell_type": "code",
      "metadata": {
        "colab": {
          "base_uri": "https://localhost:8080/"
        },
        "id": "Rz73NcyZUdAn",
        "outputId": "a878c871-d9b3-460b-eb70-cf445617d91e"
      },
      "source": [
        "!pip install torchvision\n",
        "!pip install captum"
      ],
      "execution_count": 1,
      "outputs": [
        {
          "output_type": "stream",
          "text": [
            "Requirement already satisfied: torchvision in /usr/local/lib/python3.6/dist-packages (0.8.1+cu101)\n",
            "Requirement already satisfied: pillow>=4.1.1 in /usr/local/lib/python3.6/dist-packages (from torchvision) (7.0.0)\n",
            "Requirement already satisfied: torch==1.7.0 in /usr/local/lib/python3.6/dist-packages (from torchvision) (1.7.0+cu101)\n",
            "Requirement already satisfied: numpy in /usr/local/lib/python3.6/dist-packages (from torchvision) (1.18.5)\n",
            "Requirement already satisfied: future in /usr/local/lib/python3.6/dist-packages (from torch==1.7.0->torchvision) (0.16.0)\n",
            "Requirement already satisfied: dataclasses in /usr/local/lib/python3.6/dist-packages (from torch==1.7.0->torchvision) (0.8)\n",
            "Requirement already satisfied: typing-extensions in /usr/local/lib/python3.6/dist-packages (from torch==1.7.0->torchvision) (3.7.4.3)\n",
            "Collecting captum\n",
            "\u001b[?25l  Downloading https://files.pythonhosted.org/packages/bf/27/e6d97c600cabc38b860ead2f6be243d819ff3d259bc3195b7d2ed943ba5d/captum-0.3.0-py3-none-any.whl (5.7MB)\n",
            "\u001b[K     |████████████████████████████████| 5.7MB 3.7MB/s \n",
            "\u001b[?25hRequirement already satisfied: torch>=1.2 in /usr/local/lib/python3.6/dist-packages (from captum) (1.7.0+cu101)\n",
            "Requirement already satisfied: numpy in /usr/local/lib/python3.6/dist-packages (from captum) (1.18.5)\n",
            "Requirement already satisfied: matplotlib in /usr/local/lib/python3.6/dist-packages (from captum) (3.2.2)\n",
            "Requirement already satisfied: dataclasses in /usr/local/lib/python3.6/dist-packages (from torch>=1.2->captum) (0.8)\n",
            "Requirement already satisfied: future in /usr/local/lib/python3.6/dist-packages (from torch>=1.2->captum) (0.16.0)\n",
            "Requirement already satisfied: typing-extensions in /usr/local/lib/python3.6/dist-packages (from torch>=1.2->captum) (3.7.4.3)\n",
            "Requirement already satisfied: cycler>=0.10 in /usr/local/lib/python3.6/dist-packages (from matplotlib->captum) (0.10.0)\n",
            "Requirement already satisfied: python-dateutil>=2.1 in /usr/local/lib/python3.6/dist-packages (from matplotlib->captum) (2.8.1)\n",
            "Requirement already satisfied: kiwisolver>=1.0.1 in /usr/local/lib/python3.6/dist-packages (from matplotlib->captum) (1.3.1)\n",
            "Requirement already satisfied: pyparsing!=2.0.4,!=2.1.2,!=2.1.6,>=2.0.1 in /usr/local/lib/python3.6/dist-packages (from matplotlib->captum) (2.4.7)\n",
            "Requirement already satisfied: six in /usr/local/lib/python3.6/dist-packages (from cycler>=0.10->matplotlib->captum) (1.15.0)\n",
            "Installing collected packages: captum\n",
            "Successfully installed captum-0.3.0\n"
          ],
          "name": "stdout"
        }
      ]
    },
    {
      "cell_type": "markdown",
      "metadata": {
        "id": "6Jfbpa-Cpcyp"
      },
      "source": [
        "# Base CONV"
      ]
    },
    {
      "cell_type": "code",
      "metadata": {
        "colab": {
          "base_uri": "https://localhost:8080/"
        },
        "id": "z0QRHIuLpgaq",
        "outputId": "bc110c88-606c-41ed-cca2-82515abc0c34"
      },
      "source": [
        "import torch\n",
        "import torchvision\n",
        "n_epochs = 3\n",
        "batch_size_train = 64\n",
        "batch_size_test = 1000\n",
        "learning_rate = 0.01\n",
        "momentum = 0.5\n",
        "log_interval = 10\n",
        "\n",
        "random_seed = 1\n",
        "torch.backends.cudnn.enabled = False\n",
        "torch.manual_seed(random_seed)"
      ],
      "execution_count": 2,
      "outputs": [
        {
          "output_type": "execute_result",
          "data": {
            "text/plain": [
              "<torch._C.Generator at 0x7f8ba2d6fbe8>"
            ]
          },
          "metadata": {
            "tags": []
          },
          "execution_count": 2
        }
      ]
    },
    {
      "cell_type": "code",
      "metadata": {
        "colab": {
          "base_uri": "https://localhost:8080/",
          "height": 420,
          "referenced_widgets": [
            "617563fcf97e43dbb015ea8cc4f8b656",
            "eaacd47a591f4cacaa0411fed0b8e9b6",
            "59b279b8dc3e4bcdaeaf069dc25b625a",
            "797f73dd75d9407290e25c39781c3e61",
            "2748e5f565b046dcbdf3b503bafd1bca",
            "52bcf04cc558472581ec7abd406f7525",
            "6b06db567fef4e15b8e32241028f8e3b",
            "2eac52b3aec2417b9473c92b666b9b8e",
            "73d943acf1df4c86a6c156ca612f653d",
            "f10b96f1ab05464389bc3ed5abbb3324",
            "efea85795a7c43dabfd2db279d286137",
            "9cf614421fa243fe912abeb4fb532077",
            "424c0103489144fdbf49bbd87fb953bc",
            "18c581f874b14a488b726d735aed54e6",
            "8b4eecd2fedc456fbde853aad81075bb",
            "9c325ca45c0849ef9a055d87515c07e1",
            "aad6bbfec11449609ee8ae9d8c67dde4",
            "8c67a666ed674ec592e3c4bc8ae0582e",
            "46acf0c46a7c493fad4ba662dd0b0eef",
            "0a4414c8b10f4b8f8397ac0af0eda491",
            "f8e86fb5e85e4ce691b674d00a3d4b05",
            "66630605c65b4e2ca0301fbc3320bcd9",
            "809f35ed5f6942e680e80118b6f97f2f",
            "c9737d703cf947518b84c5b363263b8f",
            "9713dc1031624665bcb734a7084033c0",
            "f26e76ddf4e9492e9f9d235c8d2d34b3",
            "4b7753a5a2884998a21de6f982a8fcee",
            "c4db99c478a74a2886bcdeff460e5ea8",
            "5de32c7d75f24201a0a4bd89bffbb3b6",
            "f93d00c222164278b68849b0dc3e03fe",
            "f4e194ba8fca4b0c96915ab5b49fc3ff",
            "3e961f5bd5bb4c43be0f1711c82e2d5f"
          ]
        },
        "id": "Kk-fxpbcplbe",
        "outputId": "19ddf6a1-b179-453a-b5e5-2a4a2cf23773"
      },
      "source": [
        "train_loader = torch.utils.data.DataLoader(\n",
        "  torchvision.datasets.MNIST('/files/', train=True, download=True,\n",
        "                             transform=torchvision.transforms.Compose([\n",
        "                               torchvision.transforms.ToTensor(),\n",
        "                               torchvision.transforms.Normalize(\n",
        "                                 (0.1307,), (0.3081,))\n",
        "                             ])),\n",
        "  batch_size=batch_size_train, shuffle=True)\n",
        "\n",
        "test_loader = torch.utils.data.DataLoader(\n",
        "  torchvision.datasets.MNIST('/files/', train=False, download=True,\n",
        "                             transform=torchvision.transforms.Compose([\n",
        "                               torchvision.transforms.ToTensor(),\n",
        "                               torchvision.transforms.Normalize(\n",
        "                                 (0.1307,), (0.3081,))\n",
        "                             ])),\n",
        "  batch_size=batch_size_test, shuffle=True)"
      ],
      "execution_count": 10,
      "outputs": [
        {
          "output_type": "stream",
          "text": [
            "Downloading http://yann.lecun.com/exdb/mnist/train-images-idx3-ubyte.gz to /files/MNIST/raw/train-images-idx3-ubyte.gz\n"
          ],
          "name": "stdout"
        },
        {
          "output_type": "display_data",
          "data": {
            "application/vnd.jupyter.widget-view+json": {
              "model_id": "617563fcf97e43dbb015ea8cc4f8b656",
              "version_minor": 0,
              "version_major": 2
            },
            "text/plain": [
              "HBox(children=(FloatProgress(value=1.0, bar_style='info', max=1.0), HTML(value='')))"
            ]
          },
          "metadata": {
            "tags": []
          }
        },
        {
          "output_type": "stream",
          "text": [
            "Extracting /files/MNIST/raw/train-images-idx3-ubyte.gz to /files/MNIST/raw\n",
            "Downloading http://yann.lecun.com/exdb/mnist/train-labels-idx1-ubyte.gz to /files/MNIST/raw/train-labels-idx1-ubyte.gz\n"
          ],
          "name": "stdout"
        },
        {
          "output_type": "display_data",
          "data": {
            "application/vnd.jupyter.widget-view+json": {
              "model_id": "73d943acf1df4c86a6c156ca612f653d",
              "version_minor": 0,
              "version_major": 2
            },
            "text/plain": [
              "HBox(children=(FloatProgress(value=1.0, bar_style='info', max=1.0), HTML(value='')))"
            ]
          },
          "metadata": {
            "tags": []
          }
        },
        {
          "output_type": "stream",
          "text": [
            "Extracting /files/MNIST/raw/train-labels-idx1-ubyte.gz to /files/MNIST/raw\n",
            "Downloading http://yann.lecun.com/exdb/mnist/t10k-images-idx3-ubyte.gz to /files/MNIST/raw/t10k-images-idx3-ubyte.gz\n"
          ],
          "name": "stdout"
        },
        {
          "output_type": "display_data",
          "data": {
            "application/vnd.jupyter.widget-view+json": {
              "model_id": "aad6bbfec11449609ee8ae9d8c67dde4",
              "version_minor": 0,
              "version_major": 2
            },
            "text/plain": [
              "HBox(children=(FloatProgress(value=1.0, bar_style='info', max=1.0), HTML(value='')))"
            ]
          },
          "metadata": {
            "tags": []
          }
        },
        {
          "output_type": "stream",
          "text": [
            "Extracting /files/MNIST/raw/t10k-images-idx3-ubyte.gz to /files/MNIST/raw\n",
            "Downloading http://yann.lecun.com/exdb/mnist/t10k-labels-idx1-ubyte.gz to /files/MNIST/raw/t10k-labels-idx1-ubyte.gz\n",
            "\n",
            "\n",
            "\n"
          ],
          "name": "stdout"
        },
        {
          "output_type": "display_data",
          "data": {
            "application/vnd.jupyter.widget-view+json": {
              "model_id": "9713dc1031624665bcb734a7084033c0",
              "version_minor": 0,
              "version_major": 2
            },
            "text/plain": [
              "HBox(children=(FloatProgress(value=1.0, bar_style='info', max=1.0), HTML(value='')))"
            ]
          },
          "metadata": {
            "tags": []
          }
        },
        {
          "output_type": "stream",
          "text": [
            "Extracting /files/MNIST/raw/t10k-labels-idx1-ubyte.gz to /files/MNIST/raw\n",
            "Processing...\n",
            "Done!\n"
          ],
          "name": "stdout"
        },
        {
          "output_type": "stream",
          "text": [
            "/usr/local/lib/python3.6/dist-packages/torchvision/datasets/mnist.py:480: UserWarning: The given NumPy array is not writeable, and PyTorch does not support non-writeable tensors. This means you can write to the underlying (supposedly non-writeable) NumPy array using the tensor. You may want to copy the array to protect its data or make it writeable before converting it to a tensor. This type of warning will be suppressed for the rest of this program. (Triggered internally at  /pytorch/torch/csrc/utils/tensor_numpy.cpp:141.)\n",
            "  return torch.from_numpy(parsed.astype(m[2], copy=False)).view(*s)\n"
          ],
          "name": "stderr"
        }
      ]
    },
    {
      "cell_type": "code",
      "metadata": {
        "colab": {
          "base_uri": "https://localhost:8080/",
          "height": 551
        },
        "id": "tntLUo8OpoFW",
        "outputId": "63eacd65-1dfa-44fa-c655-50149d6a568f"
      },
      "source": [
        "import matplotlib.pyplot as plt\n",
        "examples = enumerate(test_loader)\n",
        "batch_idx, (example_data, example_targets) = next(examples)\n",
        "fig = plt.figure()\n",
        "for i in range(6):\n",
        "  plt.subplot(2,3,i+1)\n",
        "  plt.tight_layout()\n",
        "  plt.imshow(example_data[i][0], cmap='gray', interpolation='none')\n",
        "  plt.title(\"Ground Truth: {}\".format(example_targets[i]))\n",
        "  plt.xticks([])\n",
        "  plt.yticks([])\n",
        "fig"
      ],
      "execution_count": 4,
      "outputs": [
        {
          "output_type": "execute_result",
          "data": {
            "image/png": "[encoded data removed]",
            "text/plain": [
              "<Figure size 432x288 with 6 Axes>"
            ]
          },
          "metadata": {
            "tags": []
          },
          "execution_count": 4
        },
        {
          "output_type": "display_data",
          "data": {
            "image/png": "[encoded data removed]",
            "text/plain": [
              "<Figure size 432x288 with 6 Axes>"
            ]
          },
          "metadata": {
            "tags": []
          }
        }
      ]
    },
    {
      "cell_type": "code",
      "metadata": {
        "id": "85CstGSspuUq"
      },
      "source": [
        "import torch.nn as nn\n",
        "import torch.nn.functional as F\n",
        "import torch.optim as optim\n",
        "from captum.attr import GuidedGradCam\n"
      ],
      "execution_count": 11,
      "outputs": []
    },
    {
      "cell_type": "code",
      "metadata": {
        "id": "CUxNltQNs1qI"
      },
      "source": [
        "class View(nn.Module):\n",
        "\n",
        "    def __init__(self, *shape):\n",
        "        super(View, self).__init__()\n",
        "        self.shape = shape\n",
        "\n",
        "    def forward(self, x):\n",
        "        return x.view(x.shape[0], *self.shape)\n",
        "\n",
        "class ch_attention(nn.Module):\n",
        "\n",
        "    def __init__(self, n_ch, r=16):\n",
        "        super(ch_attention, self).__init__()\n",
        "        layers = []\n",
        "        layers += [nn.AdaptiveAvgPool2d((1,1)),\n",
        "                   View(-1),\n",
        "                   nn.Linear(in_features=n_ch, out_features=n_ch//r, bias=False),\n",
        "                   nn.BatchNorm1d(n_ch//r),\n",
        "                   nn.ReLU(True),\n",
        "                   nn.Linear(in_features=n_ch//r, out_features=n_ch)]\n",
        "        self.layers = nn.Sequential(*layers) \n",
        "    def forward(self, x):\n",
        "        return self.layers(x).unsqueeze(2).unsqueeze(3).expand_as(x) \n",
        "    \n",
        "class spatial_attention(nn.Module):\n",
        "\n",
        "    def __init__(self, n_ch, r=16, dilation=4):\n",
        "        super(spatial_attention, self).__init__()\n",
        "        layers = []\n",
        "        layers += [nn.Conv2d(in_channels=n_ch, out_channels=n_ch//r, kernel_size=1, bias=False),\n",
        "                   nn.BatchNorm2d(n_ch//r),\n",
        "                   nn.ReLU(True),\n",
        "                   nn.Conv2d(in_channels=n_ch//r, out_channels=n_ch//r, kernel_size=3, padding=dilation, dilation=dilation, bias=False),\n",
        "                   nn.BatchNorm2d(n_ch//r), \n",
        "                   nn.ReLU(True),\n",
        "                   nn.Conv2d(in_channels=n_ch//r, out_channels=n_ch//r, kernel_size=3, padding=dilation, dilation=dilation, bias=False),\n",
        "                   nn.BatchNorm2d(n_ch//r),\n",
        "                   nn.ReLU(True),\n",
        "                   nn.Conv2d(in_channels=n_ch//r, out_channels=1, kernel_size=1)]\n",
        "        self.layers = nn.Sequential(*layers)\n",
        "\n",
        "    def forward(self, x):\n",
        "        return self.layers(x).expand_as(x)\n",
        "\n",
        "class BAM(nn.Module):\n",
        "\n",
        "    def __init__(self, n_ch, r=16, dilation=4):\n",
        "        super(BAM, self).__init__()\n",
        "        self.channel_att = ch_attention(n_ch, r)\n",
        "        self.spatial_att = spatial_attention(n_ch, r, dilation)\n",
        "\n",
        "    def forward(self, x):\n",
        "        ch_out = self.channel_att(x)\n",
        "        sp_out = self.spatial_att(x)\n",
        "        out = 1 + torch.sigmoid(ch_out*sp_out)\n",
        "        return out * x\n",
        "\n",
        "class BAM_spatial(nn.Module):\n",
        "\n",
        "    def __init__(self, n_ch, r=16, dilation=4):\n",
        "        super(BAM_spatial, self).__init__()\n",
        "\n",
        "        self.spatial_att = spatial_attention(n_ch, r, dilation)\n",
        "\n",
        "    def forward(self, x):\n",
        "\n",
        "        sp_out = self.spatial_att(x)\n",
        "        out = 1 + torch.sigmoid(sp_out)\n",
        "        return out * x\n",
        "\n",
        "\n"
      ],
      "execution_count": 12,
      "outputs": []
    },
    {
      "cell_type": "code",
      "metadata": {
        "id": "zzNxAjIvDQGL"
      },
      "source": [
        "class Net(nn.Module):\n",
        "    def __init__(self):\n",
        "        super(Net, self).__init__()\n",
        "        self.conv1 = nn.Conv2d(1, 10, kernel_size=5)\n",
        "        self.conv2 = nn.Conv2d(10, 20, kernel_size=5)\n",
        "        self.conv2_drop = nn.Dropout2d()\n",
        "        self.fc1 = nn.Linear(320, 50)\n",
        "        self.fc2 = nn.Linear(50, 10)\n",
        "\n",
        "    def forward(self, x):\n",
        "        x = F.relu(F.max_pool2d(self.conv1(x), 2))\n",
        "        x = F.relu(F.max_pool2d(self.conv2_drop(self.conv2(x)), 2))\n",
        "        x = x.view(-1, 320)\n",
        "        x = F.relu(self.fc1(x))\n",
        "        x = F.dropout(x, training=self.training)\n",
        "        x = self.fc2(x)\n",
        "        return F.log_softmax(x)"
      ],
      "execution_count": 13,
      "outputs": []
    },
    {
      "cell_type": "code",
      "metadata": {
        "id": "t2SxB_ljp1pe"
      },
      "source": [
        "network = Net()\n",
        "optimizer = optim.SGD(network.parameters(), lr=learning_rate,\n",
        "                      momentum=momentum)"
      ],
      "execution_count": 14,
      "outputs": []
    },
    {
      "cell_type": "code",
      "metadata": {
        "id": "xg8ey3Rcp8gR"
      },
      "source": [
        "train_losses = []\n",
        "train_counter = []\n",
        "test_losses = []\n",
        "test_counter = [i*len(train_loader.dataset) for i in range(n_epochs + 1)]"
      ],
      "execution_count": 15,
      "outputs": []
    },
    {
      "cell_type": "code",
      "metadata": {
        "id": "M0HyhDLGp_UA"
      },
      "source": [
        "def train(epoch):\n",
        "  network.train()\n",
        "  for batch_idx, (data, target) in enumerate(train_loader):\n",
        "    optimizer.zero_grad()\n",
        "    output = network(data)\n",
        "    loss = F.nll_loss(output, target)\n",
        "    loss.backward()\n",
        "    optimizer.step()\n",
        "    if batch_idx % log_interval == 0:\n",
        "      print('Train Epoch: {} [{}/{} ({:.0f}%)]\\tLoss: {:.6f}'.format(\n",
        "        epoch, batch_idx * len(data), len(train_loader.dataset),\n",
        "        100. * batch_idx / len(train_loader), loss.item()))\n",
        "      train_losses.append(loss.item())\n",
        "      train_counter.append(\n",
        "        (batch_idx*64) + ((epoch-1)*len(train_loader.dataset)))\n",
        "      #torch.save(network.state_dict(), '/results/model.pth')\n",
        "      #torch.save(optimizer.state_dict(), '/results/optimizer.pth')"
      ],
      "execution_count": 30,
      "outputs": []
    },
    {
      "cell_type": "code",
      "metadata": {
        "id": "B5YprJhbqDIm"
      },
      "source": [
        "def test():\n",
        "  network.eval()\n",
        "  test_loss = 0\n",
        "  correct = 0\n",
        "  with torch.no_grad():\n",
        "    for data, target in test_loader:\n",
        "      output = network(data)\n",
        "      test_loss += F.nll_loss(output, target, size_average=False).item()\n",
        "      pred = output.data.max(1, keepdim=True)[1]\n",
        "      correct += pred.eq(target.data.view_as(pred)).sum()\n",
        "  test_loss /= len(test_loader.dataset)\n",
        "  test_losses.append(test_loss)\n",
        "  print('\\nTest set: Avg. loss: {:.4f}, Accuracy: {}/{} ({:.0f}%)\\n'.format(\n",
        "    test_loss, correct, len(test_loader.dataset),\n",
        "    100. * correct / len(test_loader.dataset)))"
      ],
      "execution_count": 16,
      "outputs": []
    },
    {
      "cell_type": "code",
      "metadata": {
        "colab": {
          "base_uri": "https://localhost:8080/"
        },
        "id": "9vhpg2V70Nhs",
        "outputId": "63642df1-c421-4991-f92b-04be889b3568"
      },
      "source": [
        "network"
      ],
      "execution_count": 17,
      "outputs": [
        {
          "output_type": "execute_result",
          "data": {
            "text/plain": [
              "Net(\n",
              "  (conv1): Conv2d(1, 10, kernel_size=(5, 5), stride=(1, 1))\n",
              "  (conv2): Conv2d(10, 20, kernel_size=(5, 5), stride=(1, 1))\n",
              "  (conv2_drop): Dropout2d(p=0.5, inplace=False)\n",
              "  (fc1): Linear(in_features=320, out_features=50, bias=True)\n",
              "  (fc2): Linear(in_features=50, out_features=10, bias=True)\n",
              ")"
            ]
          },
          "metadata": {
            "tags": []
          },
          "execution_count": 17
        }
      ]
    },
    {
      "cell_type": "code",
      "metadata": {
        "colab": {
          "base_uri": "https://localhost:8080/",
          "height": 428
        },
        "id": "6llcgkeKqD-Z",
        "outputId": "09369a19-2359-4cda-8393-3681911e818e"
      },
      "source": [
        "test()\n",
        "for epoch in range(1, n_epochs + 1):\n",
        "  train(epoch)\n",
        "  test()"
      ],
      "execution_count": 18,
      "outputs": [
        {
          "output_type": "stream",
          "text": [
            "/usr/local/lib/python3.6/dist-packages/ipykernel_launcher.py:17: UserWarning: Implicit dimension choice for log_softmax has been deprecated. Change the call to include dim=X as an argument.\n",
            "/usr/local/lib/python3.6/dist-packages/torch/nn/_reduction.py:44: UserWarning: size_average and reduce args will be deprecated, please use reduction='sum' instead.\n",
            "  warnings.warn(warning.format(ret))\n"
          ],
          "name": "stderr"
        },
        {
          "output_type": "error",
          "ename": "KeyboardInterrupt",
          "evalue": "ignored",
          "traceback": [
            "\u001b[0;31m---------------------------------------------------------------------------\u001b[0m",
            "\u001b[0;31mKeyboardInterrupt\u001b[0m                         Traceback (most recent call last)",
            "\u001b[0;32m<ipython-input-18-ef6e122ea50c>\u001b[0m in \u001b[0;36m<module>\u001b[0;34m()\u001b[0m\n\u001b[0;32m----> 1\u001b[0;31m \u001b[0mtest\u001b[0m\u001b[0;34m(\u001b[0m\u001b[0;34m)\u001b[0m\u001b[0;34m\u001b[0m\u001b[0;34m\u001b[0m\u001b[0m\n\u001b[0m\u001b[1;32m      2\u001b[0m \u001b[0;32mfor\u001b[0m \u001b[0mepoch\u001b[0m \u001b[0;32min\u001b[0m \u001b[0mrange\u001b[0m\u001b[0;34m(\u001b[0m\u001b[0;36m1\u001b[0m\u001b[0;34m,\u001b[0m \u001b[0mn_epochs\u001b[0m \u001b[0;34m+\u001b[0m \u001b[0;36m1\u001b[0m\u001b[0;34m)\u001b[0m\u001b[0;34m:\u001b[0m\u001b[0;34m\u001b[0m\u001b[0;34m\u001b[0m\u001b[0m\n\u001b[1;32m      3\u001b[0m   \u001b[0mtrain\u001b[0m\u001b[0;34m(\u001b[0m\u001b[0mepoch\u001b[0m\u001b[0;34m)\u001b[0m\u001b[0;34m\u001b[0m\u001b[0;34m\u001b[0m\u001b[0m\n\u001b[1;32m      4\u001b[0m   \u001b[0mtest\u001b[0m\u001b[0;34m(\u001b[0m\u001b[0;34m)\u001b[0m\u001b[0;34m\u001b[0m\u001b[0;34m\u001b[0m\u001b[0m\n",
            "\u001b[0;32m<ipython-input-16-96d20ccab865>\u001b[0m in \u001b[0;36mtest\u001b[0;34m()\u001b[0m\n\u001b[1;32m      4\u001b[0m   \u001b[0mcorrect\u001b[0m \u001b[0;34m=\u001b[0m \u001b[0;36m0\u001b[0m\u001b[0;34m\u001b[0m\u001b[0;34m\u001b[0m\u001b[0m\n\u001b[1;32m      5\u001b[0m   \u001b[0;32mwith\u001b[0m \u001b[0mtorch\u001b[0m\u001b[0;34m.\u001b[0m\u001b[0mno_grad\u001b[0m\u001b[0;34m(\u001b[0m\u001b[0;34m)\u001b[0m\u001b[0;34m:\u001b[0m\u001b[0;34m\u001b[0m\u001b[0;34m\u001b[0m\u001b[0m\n\u001b[0;32m----> 6\u001b[0;31m     \u001b[0;32mfor\u001b[0m \u001b[0mdata\u001b[0m\u001b[0;34m,\u001b[0m \u001b[0mtarget\u001b[0m \u001b[0;32min\u001b[0m \u001b[0mtest_loader\u001b[0m\u001b[0;34m:\u001b[0m\u001b[0;34m\u001b[0m\u001b[0;34m\u001b[0m\u001b[0m\n\u001b[0m\u001b[1;32m      7\u001b[0m       \u001b[0moutput\u001b[0m \u001b[0;34m=\u001b[0m \u001b[0mnetwork\u001b[0m\u001b[0;34m(\u001b[0m\u001b[0mdata\u001b[0m\u001b[0;34m)\u001b[0m\u001b[0;34m\u001b[0m\u001b[0;34m\u001b[0m\u001b[0m\n\u001b[1;32m      8\u001b[0m       \u001b[0mtest_loss\u001b[0m \u001b[0;34m+=\u001b[0m \u001b[0mF\u001b[0m\u001b[0;34m.\u001b[0m\u001b[0mnll_loss\u001b[0m\u001b[0;34m(\u001b[0m\u001b[0moutput\u001b[0m\u001b[0;34m,\u001b[0m \u001b[0mtarget\u001b[0m\u001b[0;34m,\u001b[0m \u001b[0msize_average\u001b[0m\u001b[0;34m=\u001b[0m\u001b[0;32mFalse\u001b[0m\u001b[0;34m)\u001b[0m\u001b[0;34m.\u001b[0m\u001b[0mitem\u001b[0m\u001b[0;34m(\u001b[0m\u001b[0;34m)\u001b[0m\u001b[0;34m\u001b[0m\u001b[0;34m\u001b[0m\u001b[0m\n",
            "\u001b[0;32m/usr/local/lib/python3.6/dist-packages/torch/utils/data/dataloader.py\u001b[0m in \u001b[0;36m__next__\u001b[0;34m(self)\u001b[0m\n\u001b[1;32m    433\u001b[0m         \u001b[0;32mif\u001b[0m \u001b[0mself\u001b[0m\u001b[0;34m.\u001b[0m\u001b[0m_sampler_iter\u001b[0m \u001b[0;32mis\u001b[0m \u001b[0;32mNone\u001b[0m\u001b[0;34m:\u001b[0m\u001b[0;34m\u001b[0m\u001b[0;34m\u001b[0m\u001b[0m\n\u001b[1;32m    434\u001b[0m             \u001b[0mself\u001b[0m\u001b[0;34m.\u001b[0m\u001b[0m_reset\u001b[0m\u001b[0;34m(\u001b[0m\u001b[0;34m)\u001b[0m\u001b[0;34m\u001b[0m\u001b[0;34m\u001b[0m\u001b[0m\n\u001b[0;32m--> 435\u001b[0;31m         \u001b[0mdata\u001b[0m \u001b[0;34m=\u001b[0m \u001b[0mself\u001b[0m\u001b[0;34m.\u001b[0m\u001b[0m_next_data\u001b[0m\u001b[0;34m(\u001b[0m\u001b[0;34m)\u001b[0m\u001b[0;34m\u001b[0m\u001b[0;34m\u001b[0m\u001b[0m\n\u001b[0m\u001b[1;32m    436\u001b[0m         \u001b[0mself\u001b[0m\u001b[0;34m.\u001b[0m\u001b[0m_num_yielded\u001b[0m \u001b[0;34m+=\u001b[0m \u001b[0;36m1\u001b[0m\u001b[0;34m\u001b[0m\u001b[0;34m\u001b[0m\u001b[0m\n\u001b[1;32m    437\u001b[0m         \u001b[0;32mif\u001b[0m \u001b[0mself\u001b[0m\u001b[0;34m.\u001b[0m\u001b[0m_dataset_kind\u001b[0m \u001b[0;34m==\u001b[0m \u001b[0m_DatasetKind\u001b[0m\u001b[0;34m.\u001b[0m\u001b[0mIterable\u001b[0m \u001b[0;32mand\u001b[0m\u001b[0;31m \u001b[0m\u001b[0;31m\\\u001b[0m\u001b[0;34m\u001b[0m\u001b[0;34m\u001b[0m\u001b[0m\n",
            "\u001b[0;32m/usr/local/lib/python3.6/dist-packages/torch/utils/data/dataloader.py\u001b[0m in \u001b[0;36m_next_data\u001b[0;34m(self)\u001b[0m\n\u001b[1;32m    473\u001b[0m     \u001b[0;32mdef\u001b[0m \u001b[0m_next_data\u001b[0m\u001b[0;34m(\u001b[0m\u001b[0mself\u001b[0m\u001b[0;34m)\u001b[0m\u001b[0;34m:\u001b[0m\u001b[0;34m\u001b[0m\u001b[0;34m\u001b[0m\u001b[0m\n\u001b[1;32m    474\u001b[0m         \u001b[0mindex\u001b[0m \u001b[0;34m=\u001b[0m \u001b[0mself\u001b[0m\u001b[0;34m.\u001b[0m\u001b[0m_next_index\u001b[0m\u001b[0;34m(\u001b[0m\u001b[0;34m)\u001b[0m  \u001b[0;31m# may raise StopIteration\u001b[0m\u001b[0;34m\u001b[0m\u001b[0;34m\u001b[0m\u001b[0m\n\u001b[0;32m--> 475\u001b[0;31m         \u001b[0mdata\u001b[0m \u001b[0;34m=\u001b[0m \u001b[0mself\u001b[0m\u001b[0;34m.\u001b[0m\u001b[0m_dataset_fetcher\u001b[0m\u001b[0;34m.\u001b[0m\u001b[0mfetch\u001b[0m\u001b[0;34m(\u001b[0m\u001b[0mindex\u001b[0m\u001b[0;34m)\u001b[0m  \u001b[0;31m# may raise StopIteration\u001b[0m\u001b[0;34m\u001b[0m\u001b[0;34m\u001b[0m\u001b[0m\n\u001b[0m\u001b[1;32m    476\u001b[0m         \u001b[0;32mif\u001b[0m \u001b[0mself\u001b[0m\u001b[0;34m.\u001b[0m\u001b[0m_pin_memory\u001b[0m\u001b[0;34m:\u001b[0m\u001b[0;34m\u001b[0m\u001b[0;34m\u001b[0m\u001b[0m\n\u001b[1;32m    477\u001b[0m             \u001b[0mdata\u001b[0m \u001b[0;34m=\u001b[0m \u001b[0m_utils\u001b[0m\u001b[0;34m.\u001b[0m\u001b[0mpin_memory\u001b[0m\u001b[0;34m.\u001b[0m\u001b[0mpin_memory\u001b[0m\u001b[0;34m(\u001b[0m\u001b[0mdata\u001b[0m\u001b[0;34m)\u001b[0m\u001b[0;34m\u001b[0m\u001b[0;34m\u001b[0m\u001b[0m\n",
            "\u001b[0;32m/usr/local/lib/python3.6/dist-packages/torch/utils/data/_utils/fetch.py\u001b[0m in \u001b[0;36mfetch\u001b[0;34m(self, possibly_batched_index)\u001b[0m\n\u001b[1;32m     42\u001b[0m     \u001b[0;32mdef\u001b[0m \u001b[0mfetch\u001b[0m\u001b[0;34m(\u001b[0m\u001b[0mself\u001b[0m\u001b[0;34m,\u001b[0m \u001b[0mpossibly_batched_index\u001b[0m\u001b[0;34m)\u001b[0m\u001b[0;34m:\u001b[0m\u001b[0;34m\u001b[0m\u001b[0;34m\u001b[0m\u001b[0m\n\u001b[1;32m     43\u001b[0m         \u001b[0;32mif\u001b[0m \u001b[0mself\u001b[0m\u001b[0;34m.\u001b[0m\u001b[0mauto_collation\u001b[0m\u001b[0;34m:\u001b[0m\u001b[0;34m\u001b[0m\u001b[0;34m\u001b[0m\u001b[0m\n\u001b[0;32m---> 44\u001b[0;31m             \u001b[0mdata\u001b[0m \u001b[0;34m=\u001b[0m \u001b[0;34m[\u001b[0m\u001b[0mself\u001b[0m\u001b[0;34m.\u001b[0m\u001b[0mdataset\u001b[0m\u001b[0;34m[\u001b[0m\u001b[0midx\u001b[0m\u001b[0;34m]\u001b[0m \u001b[0;32mfor\u001b[0m \u001b[0midx\u001b[0m \u001b[0;32min\u001b[0m \u001b[0mpossibly_batched_index\u001b[0m\u001b[0;34m]\u001b[0m\u001b[0;34m\u001b[0m\u001b[0;34m\u001b[0m\u001b[0m\n\u001b[0m\u001b[1;32m     45\u001b[0m         \u001b[0;32melse\u001b[0m\u001b[0;34m:\u001b[0m\u001b[0;34m\u001b[0m\u001b[0;34m\u001b[0m\u001b[0m\n\u001b[1;32m     46\u001b[0m             \u001b[0mdata\u001b[0m \u001b[0;34m=\u001b[0m \u001b[0mself\u001b[0m\u001b[0;34m.\u001b[0m\u001b[0mdataset\u001b[0m\u001b[0;34m[\u001b[0m\u001b[0mpossibly_batched_index\u001b[0m\u001b[0;34m]\u001b[0m\u001b[0;34m\u001b[0m\u001b[0;34m\u001b[0m\u001b[0m\n",
            "\u001b[0;32m/usr/local/lib/python3.6/dist-packages/torch/utils/data/_utils/fetch.py\u001b[0m in \u001b[0;36m<listcomp>\u001b[0;34m(.0)\u001b[0m\n\u001b[1;32m     42\u001b[0m     \u001b[0;32mdef\u001b[0m \u001b[0mfetch\u001b[0m\u001b[0;34m(\u001b[0m\u001b[0mself\u001b[0m\u001b[0;34m,\u001b[0m \u001b[0mpossibly_batched_index\u001b[0m\u001b[0;34m)\u001b[0m\u001b[0;34m:\u001b[0m\u001b[0;34m\u001b[0m\u001b[0;34m\u001b[0m\u001b[0m\n\u001b[1;32m     43\u001b[0m         \u001b[0;32mif\u001b[0m \u001b[0mself\u001b[0m\u001b[0;34m.\u001b[0m\u001b[0mauto_collation\u001b[0m\u001b[0;34m:\u001b[0m\u001b[0;34m\u001b[0m\u001b[0;34m\u001b[0m\u001b[0m\n\u001b[0;32m---> 44\u001b[0;31m             \u001b[0mdata\u001b[0m \u001b[0;34m=\u001b[0m \u001b[0;34m[\u001b[0m\u001b[0mself\u001b[0m\u001b[0;34m.\u001b[0m\u001b[0mdataset\u001b[0m\u001b[0;34m[\u001b[0m\u001b[0midx\u001b[0m\u001b[0;34m]\u001b[0m \u001b[0;32mfor\u001b[0m \u001b[0midx\u001b[0m \u001b[0;32min\u001b[0m \u001b[0mpossibly_batched_index\u001b[0m\u001b[0;34m]\u001b[0m\u001b[0;34m\u001b[0m\u001b[0;34m\u001b[0m\u001b[0m\n\u001b[0m\u001b[1;32m     45\u001b[0m         \u001b[0;32melse\u001b[0m\u001b[0;34m:\u001b[0m\u001b[0;34m\u001b[0m\u001b[0;34m\u001b[0m\u001b[0m\n\u001b[1;32m     46\u001b[0m             \u001b[0mdata\u001b[0m \u001b[0;34m=\u001b[0m \u001b[0mself\u001b[0m\u001b[0;34m.\u001b[0m\u001b[0mdataset\u001b[0m\u001b[0;34m[\u001b[0m\u001b[0mpossibly_batched_index\u001b[0m\u001b[0;34m]\u001b[0m\u001b[0;34m\u001b[0m\u001b[0;34m\u001b[0m\u001b[0m\n",
            "\u001b[0;32m/usr/local/lib/python3.6/dist-packages/torchvision/datasets/mnist.py\u001b[0m in \u001b[0;36m__getitem__\u001b[0;34m(self, index)\u001b[0m\n\u001b[1;32m    104\u001b[0m \u001b[0;34m\u001b[0m\u001b[0m\n\u001b[1;32m    105\u001b[0m         \u001b[0;32mif\u001b[0m \u001b[0mself\u001b[0m\u001b[0;34m.\u001b[0m\u001b[0mtransform\u001b[0m \u001b[0;32mis\u001b[0m \u001b[0;32mnot\u001b[0m \u001b[0;32mNone\u001b[0m\u001b[0;34m:\u001b[0m\u001b[0;34m\u001b[0m\u001b[0;34m\u001b[0m\u001b[0m\n\u001b[0;32m--> 106\u001b[0;31m             \u001b[0mimg\u001b[0m \u001b[0;34m=\u001b[0m \u001b[0mself\u001b[0m\u001b[0;34m.\u001b[0m\u001b[0mtransform\u001b[0m\u001b[0;34m(\u001b[0m\u001b[0mimg\u001b[0m\u001b[0;34m)\u001b[0m\u001b[0;34m\u001b[0m\u001b[0;34m\u001b[0m\u001b[0m\n\u001b[0m\u001b[1;32m    107\u001b[0m \u001b[0;34m\u001b[0m\u001b[0m\n\u001b[1;32m    108\u001b[0m         \u001b[0;32mif\u001b[0m \u001b[0mself\u001b[0m\u001b[0;34m.\u001b[0m\u001b[0mtarget_transform\u001b[0m \u001b[0;32mis\u001b[0m \u001b[0;32mnot\u001b[0m \u001b[0;32mNone\u001b[0m\u001b[0;34m:\u001b[0m\u001b[0;34m\u001b[0m\u001b[0;34m\u001b[0m\u001b[0m\n",
            "\u001b[0;32m/usr/local/lib/python3.6/dist-packages/torchvision/transforms/transforms.py\u001b[0m in \u001b[0;36m__call__\u001b[0;34m(self, img)\u001b[0m\n\u001b[1;32m     65\u001b[0m     \u001b[0;32mdef\u001b[0m \u001b[0m__call__\u001b[0m\u001b[0;34m(\u001b[0m\u001b[0mself\u001b[0m\u001b[0;34m,\u001b[0m \u001b[0mimg\u001b[0m\u001b[0;34m)\u001b[0m\u001b[0;34m:\u001b[0m\u001b[0;34m\u001b[0m\u001b[0;34m\u001b[0m\u001b[0m\n\u001b[1;32m     66\u001b[0m         \u001b[0;32mfor\u001b[0m \u001b[0mt\u001b[0m \u001b[0;32min\u001b[0m \u001b[0mself\u001b[0m\u001b[0;34m.\u001b[0m\u001b[0mtransforms\u001b[0m\u001b[0;34m:\u001b[0m\u001b[0;34m\u001b[0m\u001b[0;34m\u001b[0m\u001b[0m\n\u001b[0;32m---> 67\u001b[0;31m             \u001b[0mimg\u001b[0m \u001b[0;34m=\u001b[0m \u001b[0mt\u001b[0m\u001b[0;34m(\u001b[0m\u001b[0mimg\u001b[0m\u001b[0;34m)\u001b[0m\u001b[0;34m\u001b[0m\u001b[0;34m\u001b[0m\u001b[0m\n\u001b[0m\u001b[1;32m     68\u001b[0m         \u001b[0;32mreturn\u001b[0m \u001b[0mimg\u001b[0m\u001b[0;34m\u001b[0m\u001b[0;34m\u001b[0m\u001b[0m\n\u001b[1;32m     69\u001b[0m \u001b[0;34m\u001b[0m\u001b[0m\n",
            "\u001b[0;32m/usr/local/lib/python3.6/dist-packages/torch/nn/modules/module.py\u001b[0m in \u001b[0;36m_call_impl\u001b[0;34m(self, *input, **kwargs)\u001b[0m\n\u001b[1;32m    725\u001b[0m             \u001b[0mresult\u001b[0m \u001b[0;34m=\u001b[0m \u001b[0mself\u001b[0m\u001b[0;34m.\u001b[0m\u001b[0m_slow_forward\u001b[0m\u001b[0;34m(\u001b[0m\u001b[0;34m*\u001b[0m\u001b[0minput\u001b[0m\u001b[0;34m,\u001b[0m \u001b[0;34m**\u001b[0m\u001b[0mkwargs\u001b[0m\u001b[0;34m)\u001b[0m\u001b[0;34m\u001b[0m\u001b[0;34m\u001b[0m\u001b[0m\n\u001b[1;32m    726\u001b[0m         \u001b[0;32melse\u001b[0m\u001b[0;34m:\u001b[0m\u001b[0;34m\u001b[0m\u001b[0;34m\u001b[0m\u001b[0m\n\u001b[0;32m--> 727\u001b[0;31m             \u001b[0mresult\u001b[0m \u001b[0;34m=\u001b[0m \u001b[0mself\u001b[0m\u001b[0;34m.\u001b[0m\u001b[0mforward\u001b[0m\u001b[0;34m(\u001b[0m\u001b[0;34m*\u001b[0m\u001b[0minput\u001b[0m\u001b[0;34m,\u001b[0m \u001b[0;34m**\u001b[0m\u001b[0mkwargs\u001b[0m\u001b[0;34m)\u001b[0m\u001b[0;34m\u001b[0m\u001b[0;34m\u001b[0m\u001b[0m\n\u001b[0m\u001b[1;32m    728\u001b[0m         for hook in itertools.chain(\n\u001b[1;32m    729\u001b[0m                 \u001b[0m_global_forward_hooks\u001b[0m\u001b[0;34m.\u001b[0m\u001b[0mvalues\u001b[0m\u001b[0;34m(\u001b[0m\u001b[0;34m)\u001b[0m\u001b[0;34m,\u001b[0m\u001b[0;34m\u001b[0m\u001b[0;34m\u001b[0m\u001b[0m\n",
            "\u001b[0;32m/usr/local/lib/python3.6/dist-packages/torchvision/transforms/transforms.py\u001b[0m in \u001b[0;36mforward\u001b[0;34m(self, tensor)\u001b[0m\n\u001b[1;32m    224\u001b[0m             \u001b[0mTensor\u001b[0m\u001b[0;34m:\u001b[0m \u001b[0mNormalized\u001b[0m \u001b[0mTensor\u001b[0m \u001b[0mimage\u001b[0m\u001b[0;34m.\u001b[0m\u001b[0;34m\u001b[0m\u001b[0;34m\u001b[0m\u001b[0m\n\u001b[1;32m    225\u001b[0m         \"\"\"\n\u001b[0;32m--> 226\u001b[0;31m         \u001b[0;32mreturn\u001b[0m \u001b[0mF\u001b[0m\u001b[0;34m.\u001b[0m\u001b[0mnormalize\u001b[0m\u001b[0;34m(\u001b[0m\u001b[0mtensor\u001b[0m\u001b[0;34m,\u001b[0m \u001b[0mself\u001b[0m\u001b[0;34m.\u001b[0m\u001b[0mmean\u001b[0m\u001b[0;34m,\u001b[0m \u001b[0mself\u001b[0m\u001b[0;34m.\u001b[0m\u001b[0mstd\u001b[0m\u001b[0;34m,\u001b[0m \u001b[0mself\u001b[0m\u001b[0;34m.\u001b[0m\u001b[0minplace\u001b[0m\u001b[0;34m)\u001b[0m\u001b[0;34m\u001b[0m\u001b[0;34m\u001b[0m\u001b[0m\n\u001b[0m\u001b[1;32m    227\u001b[0m \u001b[0;34m\u001b[0m\u001b[0m\n\u001b[1;32m    228\u001b[0m     \u001b[0;32mdef\u001b[0m \u001b[0m__repr__\u001b[0m\u001b[0;34m(\u001b[0m\u001b[0mself\u001b[0m\u001b[0;34m)\u001b[0m\u001b[0;34m:\u001b[0m\u001b[0;34m\u001b[0m\u001b[0;34m\u001b[0m\u001b[0m\n",
            "\u001b[0;31mKeyboardInterrupt\u001b[0m: "
          ]
        }
      ]
    },
    {
      "cell_type": "code",
      "metadata": {
        "colab": {
          "base_uri": "https://localhost:8080/"
        },
        "id": "kMBLKVz_sPem",
        "outputId": "470a48d9-6d3c-406c-b7a2-70b300aefd1f"
      },
      "source": [
        "test_losses[0:4]\n"
      ],
      "execution_count": null,
      "outputs": [
        {
          "output_type": "execute_result",
          "data": {
            "text/plain": [
              "[2.3064828125, 0.23145717163085938, 0.13517356414794923, 0.10196828842163086]"
            ]
          },
          "metadata": {
            "tags": []
          },
          "execution_count": 17
        }
      ]
    },
    {
      "cell_type": "code",
      "metadata": {
        "colab": {
          "base_uri": "https://localhost:8080/",
          "height": 296
        },
        "id": "YL-CiCTaqLCN",
        "outputId": "4396a493-065f-493f-8385-7b7c20eb72c4"
      },
      "source": [
        "fig = plt.figure()\n",
        "plt.plot(train_counter, train_losses, color='blue')\n",
        "plt.scatter(test_counter, test_losses[0:4], color='red')\n",
        "plt.legend(['Train Loss', 'Test Loss'], loc='upper right')\n",
        "plt.xlabel('number of training examples seen')\n",
        "plt.ylabel('negative log likelihood loss')\n"
      ],
      "execution_count": 14,
      "outputs": [
        {
          "output_type": "execute_result",
          "data": {
            "text/plain": [
              "Text(0, 0.5, 'negative log likelihood loss')"
            ]
          },
          "metadata": {
            "tags": []
          },
          "execution_count": 14
        },
        {
          "output_type": "display_data",
          "data": {
            "image/png": "[encoded data removed]",
            "text/plain": [
              "<Figure size 432x288 with 1 Axes>"
            ]
          },
          "metadata": {
            "tags": [],
            "needs_background": "light"
          }
        }
      ]
    },
    {
      "cell_type": "code",
      "metadata": {
        "colab": {
          "base_uri": "https://localhost:8080/"
        },
        "id": "XvMu00irqRme",
        "outputId": "8b69ff11-3ee9-4489-80bc-a388f60a0aa8"
      },
      "source": [
        "with torch.no_grad():\n",
        "  output = network(example_data)"
      ],
      "execution_count": null,
      "outputs": [
        {
          "output_type": "stream",
          "text": [
            "/usr/local/lib/python3.6/dist-packages/ipykernel_launcher.py:17: UserWarning: Implicit dimension choice for log_softmax has been deprecated. Change the call to include dim=X as an argument.\n"
          ],
          "name": "stderr"
        }
      ]
    },
    {
      "cell_type": "code",
      "metadata": {
        "colab": {
          "base_uri": "https://localhost:8080/",
          "height": 231
        },
        "id": "voEMoaRNtB_k",
        "outputId": "94515188-2e9e-437d-c31b-49ff925a63cc"
      },
      "source": [
        "def saliency(id,network):\n",
        "  network.eval()\n",
        "\n",
        "  # we need to find the gradient with respect to the input image, so we need to call requires_grad_ on it\n",
        "  X=test_loader.dataset[id][0].reshape(1,1,28,28)\n",
        "  X.requires_grad_()\n",
        "  print(test_loader.dataset[id][1])\n",
        "  '''\n",
        "  forward pass through the model to get the scores, note that VGG-19 model doesn't perform softmax at the end\n",
        "  and we also don't need softmax, we need scores, so that's perfect for us.\n",
        "  '''\n",
        "\n",
        "  scores = network(X)\n",
        "\n",
        "  # Get the index corresponding to the maximum score and the maximum score itself.\n",
        "  score_max_index = scores.argmax()\n",
        "  score_max = scores[0,score_max_index]\n",
        "\n",
        "  '''\n",
        "  backward function on score_max performs the backward pass in the computation graph and calculates the gradient of \n",
        "  score_max with respect to nodes in the computation graph\n",
        "  '''\n",
        "  score_max.backward()\n",
        "\n",
        "  '''\n",
        "  Saliency would be the gradient with respect to the input image now. But note that the input image has 3 channels,\n",
        "  R, G and B. To derive a single class saliency value for each pixel (i, j),  we take the maximum magnitude\n",
        "  across all colour channels.\n",
        "  '''\n",
        "  saliency, _ = torch.max(X.grad.data.abs(),dim=1)\n",
        "  return saliency[0]\n",
        "\n",
        "\n",
        "plot_saliencies=[1,100,200,1000,3000,4000]\n",
        "i=1\n",
        "\n",
        "# code to plot the saliency map as a heatmap\n",
        "for s in plot_saliencies:\n",
        "  plt.subplot(2,3,i)\n",
        "  plt.imshow(saliency(s,network), cmap=plt.cm.hot)\n",
        "\n",
        "  plt.axis('off')\n",
        "  i+=1\n",
        "\n",
        "plt.show()"
      ],
      "execution_count": 4,
      "outputs": [
        {
          "output_type": "error",
          "ename": "NameError",
          "evalue": "ignored",
          "traceback": [
            "\u001b[0;31m---------------------------------------------------------------------------\u001b[0m",
            "\u001b[0;31mNameError\u001b[0m                                 Traceback (most recent call last)",
            "\u001b[0;32m<ipython-input-4-d1c7dae57ade>\u001b[0m in \u001b[0;36m<module>\u001b[0;34m()\u001b[0m\n\u001b[1;32m     37\u001b[0m \u001b[0;31m# code to plot the saliency map as a heatmap\u001b[0m\u001b[0;34m\u001b[0m\u001b[0;34m\u001b[0m\u001b[0;34m\u001b[0m\u001b[0m\n\u001b[1;32m     38\u001b[0m \u001b[0;32mfor\u001b[0m \u001b[0ms\u001b[0m \u001b[0;32min\u001b[0m \u001b[0mplot_saliencies\u001b[0m\u001b[0;34m:\u001b[0m\u001b[0;34m\u001b[0m\u001b[0;34m\u001b[0m\u001b[0m\n\u001b[0;32m---> 39\u001b[0;31m   \u001b[0mplt\u001b[0m\u001b[0;34m.\u001b[0m\u001b[0msubplot\u001b[0m\u001b[0;34m(\u001b[0m\u001b[0;36m2\u001b[0m\u001b[0;34m,\u001b[0m\u001b[0;36m3\u001b[0m\u001b[0;34m,\u001b[0m\u001b[0mi\u001b[0m\u001b[0;34m)\u001b[0m\u001b[0;34m\u001b[0m\u001b[0;34m\u001b[0m\u001b[0m\n\u001b[0m\u001b[1;32m     40\u001b[0m   \u001b[0mplt\u001b[0m\u001b[0;34m.\u001b[0m\u001b[0mimshow\u001b[0m\u001b[0;34m(\u001b[0m\u001b[0msaliency\u001b[0m\u001b[0;34m(\u001b[0m\u001b[0ms\u001b[0m\u001b[0;34m,\u001b[0m\u001b[0mnetwork\u001b[0m\u001b[0;34m)\u001b[0m\u001b[0;34m,\u001b[0m \u001b[0mcmap\u001b[0m\u001b[0;34m=\u001b[0m\u001b[0mplt\u001b[0m\u001b[0;34m.\u001b[0m\u001b[0mcm\u001b[0m\u001b[0;34m.\u001b[0m\u001b[0mhot\u001b[0m\u001b[0;34m)\u001b[0m\u001b[0;34m\u001b[0m\u001b[0;34m\u001b[0m\u001b[0m\n\u001b[1;32m     41\u001b[0m \u001b[0;34m\u001b[0m\u001b[0m\n",
            "\u001b[0;31mNameError\u001b[0m: name 'plt' is not defined"
          ]
        }
      ]
    },
    {
      "cell_type": "code",
      "metadata": {
        "colab": {
          "base_uri": "https://localhost:8080/"
        },
        "id": "qPVqxKg-l7K7",
        "outputId": "485acf61-4ac1-4fec-8d82-efee1b0e1adb"
      },
      "source": [
        "network"
      ],
      "execution_count": null,
      "outputs": [
        {
          "output_type": "execute_result",
          "data": {
            "text/plain": [
              "Net(\n",
              "  (conv1): Conv2d(1, 10, kernel_size=(5, 5), stride=(1, 1))\n",
              "  (conv2): Conv2d(10, 20, kernel_size=(5, 5), stride=(1, 1))\n",
              "  (conv2_drop): Dropout2d(p=0.5, inplace=False)\n",
              "  (fc1): Linear(in_features=320, out_features=50, bias=True)\n",
              "  (fc2): Linear(in_features=50, out_features=10, bias=True)\n",
              ")"
            ]
          },
          "metadata": {
            "tags": []
          },
          "execution_count": 16
        }
      ]
    },
    {
      "cell_type": "code",
      "metadata": {
        "id": "mK9_3_nuqTmF"
      },
      "source": [
        "guided_gc=GuidedGradCam(network,network.conv2)"
      ],
      "execution_count": null,
      "outputs": []
    },
    {
      "cell_type": "code",
      "metadata": {
        "colab": {
          "base_uri": "https://localhost:8080/",
          "height": 282
        },
        "id": "HevcJiIXnCnW",
        "outputId": "160a95fb-a1a0-4983-eb1b-78a920f1088c"
      },
      "source": [
        "plt.imshow(test_loader.dataset[0][0].reshape(28,28))\n",
        "\n"
      ],
      "execution_count": null,
      "outputs": [
        {
          "output_type": "execute_result",
          "data": {
            "text/plain": [
              "<matplotlib.image.AxesImage at 0x7f88a7f91ac8>"
            ]
          },
          "metadata": {
            "tags": []
          },
          "execution_count": 40
        },
        {
          "output_type": "display_data",
          "data": {
            "image/png": "[encoded data removed]",
            "text/plain": [
              "<Figure size 432x288 with 1 Axes>"
            ]
          },
          "metadata": {
            "tags": [],
            "needs_background": "light"
          }
        }
      ]
    },
    {
      "cell_type": "code",
      "metadata": {
        "colab": {
          "base_uri": "https://localhost:8080/",
          "height": 353
        },
        "id": "WSFcZQUap05z",
        "outputId": "0a840191-1bb6-4205-a867-12dae61006b4"
      },
      "source": [
        "for predictions in range(0,10):\n",
        "  \n",
        "  attribution = guided_gc.attribute(test_loader.dataset[0][0].reshape(1,1,28,28),predictions)\n",
        "  plt.subplot(2,5,predictions+1)\n",
        "  plt.imshow(attribution.detach().numpy().reshape(28,28),cmap=plt.cm.hot)\n",
        "plt.colorbar()"
      ],
      "execution_count": null,
      "outputs": [
        {
          "output_type": "stream",
          "text": [
            "/usr/local/lib/python3.6/dist-packages/captum/_utils/gradient.py:55: UserWarning: Input Tensor 0 did not already require gradients, required_grads has been set automatically.\n",
            "  \"required_grads has been set automatically.\" % index\n",
            "/usr/local/lib/python3.6/dist-packages/ipykernel_launcher.py:17: UserWarning: Implicit dimension choice for log_softmax has been deprecated. Change the call to include dim=X as an argument.\n",
            "/usr/local/lib/python3.6/dist-packages/captum/attr/_core/guided_backprop_deconvnet.py:61: UserWarning: Setting backward hooks on ReLU activations.The hooks will be removed after the attribution is finished\n",
            "  \"Setting backward hooks on ReLU activations.\"\n"
          ],
          "name": "stderr"
        },
        {
          "output_type": "execute_result",
          "data": {
            "text/plain": [
              "<matplotlib.colorbar.Colorbar at 0x7f884cc667f0>"
            ]
          },
          "metadata": {
            "tags": []
          },
          "execution_count": 52
        },
        {
          "output_type": "display_data",
          "data": {
            "image/png": "[encoded data removed]",
            "text/plain": [
              "<Figure size 432x288 with 11 Axes>"
            ]
          },
          "metadata": {
            "tags": [],
            "needs_background": "light"
          }
        }
      ]
    },
    {
      "cell_type": "markdown",
      "metadata": {
        "id": "obEisVFCF8b3"
      },
      "source": [
        "# With Attention"
      ]
    },
    {
      "cell_type": "markdown",
      "metadata": {
        "id": "W8zYf8Hspye2"
      },
      "source": [
        ""
      ]
    },
    {
      "cell_type": "code",
      "metadata": {
        "id": "ceaSDJP9HSAR"
      },
      "source": [
        "class Net_Attention(nn.Module):\n",
        "    def __init__(self):\n",
        "        super(Net_Attention, self).__init__()\n",
        "        self.conv1 = nn.Conv2d(1, 10, kernel_size=5)\n",
        "        self.bam=BAM(10,r=5)\n",
        "        self.conv2 = nn.Conv2d(10, 20, kernel_size=5)\n",
        "        self.conv2_drop = nn.Dropout2d()\n",
        "        self.fc1 = nn.Linear(320, 50)\n",
        "        self.fc2 = nn.Linear(50, 10)\n",
        "\n",
        "    def forward(self, x):\n",
        "        x = F.relu(F.max_pool2d(self.conv1(x), 2))\n",
        "        x=self.bam(x)\n",
        "        x = F.relu(F.max_pool2d(self.conv2_drop(self.conv2(x)), 2))\n",
        "        x = x.view(-1, 320)\n",
        "        x = F.relu(self.fc1(x))\n",
        "        x = F.dropout(x, training=self.training)\n",
        "        x = self.fc2(x)\n",
        "        return F.log_softmax(x)"
      ],
      "execution_count": 31,
      "outputs": []
    },
    {
      "cell_type": "code",
      "metadata": {
        "id": "JILJRZS8D38o"
      },
      "source": [
        "network = Net_Attention()\n",
        "optimizer = optim.SGD(network.parameters(), lr=learning_rate,\n",
        "                      momentum=momentum)"
      ],
      "execution_count": 32,
      "outputs": []
    },
    {
      "cell_type": "code",
      "metadata": {
        "id": "t7pRlJJkD38p"
      },
      "source": [
        "train_losses = []\n",
        "train_counter = []\n",
        "test_losses = []\n",
        "test_counter = [i*len(train_loader.dataset) for i in range(n_epochs + 1)]"
      ],
      "execution_count": 33,
      "outputs": []
    },
    {
      "cell_type": "code",
      "metadata": {
        "colab": {
          "base_uri": "https://localhost:8080/"
        },
        "id": "U6t-qiG0D38p",
        "outputId": "7f46469f-e8fb-424c-938d-5306284f368f"
      },
      "source": [
        "network"
      ],
      "execution_count": 34,
      "outputs": [
        {
          "output_type": "execute_result",
          "data": {
            "text/plain": [
              "Net_Attention(\n",
              "  (conv1): Conv2d(1, 10, kernel_size=(5, 5), stride=(1, 1))\n",
              "  (bam): BAM(\n",
              "    (channel_att): ch_attention(\n",
              "      (layers): Sequential(\n",
              "        (0): AdaptiveAvgPool2d(output_size=(1, 1))\n",
              "        (1): View()\n",
              "        (2): Linear(in_features=10, out_features=2, bias=False)\n",
              "        (3): BatchNorm1d(2, eps=1e-05, momentum=0.1, affine=True, track_running_stats=True)\n",
              "        (4): ReLU(inplace=True)\n",
              "        (5): Linear(in_features=2, out_features=10, bias=True)\n",
              "      )\n",
              "    )\n",
              "    (spatial_att): spatial_attention(\n",
              "      (layers): Sequential(\n",
              "        (0): Conv2d(10, 2, kernel_size=(1, 1), stride=(1, 1), bias=False)\n",
              "        (1): BatchNorm2d(2, eps=1e-05, momentum=0.1, affine=True, track_running_stats=True)\n",
              "        (2): ReLU(inplace=True)\n",
              "        (3): Conv2d(2, 2, kernel_size=(3, 3), stride=(1, 1), padding=(4, 4), dilation=(4, 4), bias=False)\n",
              "        (4): BatchNorm2d(2, eps=1e-05, momentum=0.1, affine=True, track_running_stats=True)\n",
              "        (5): ReLU(inplace=True)\n",
              "        (6): Conv2d(2, 2, kernel_size=(3, 3), stride=(1, 1), padding=(4, 4), dilation=(4, 4), bias=False)\n",
              "        (7): BatchNorm2d(2, eps=1e-05, momentum=0.1, affine=True, track_running_stats=True)\n",
              "        (8): ReLU(inplace=True)\n",
              "        (9): Conv2d(2, 1, kernel_size=(1, 1), stride=(1, 1))\n",
              "      )\n",
              "    )\n",
              "  )\n",
              "  (conv2): Conv2d(10, 20, kernel_size=(5, 5), stride=(1, 1))\n",
              "  (conv2_drop): Dropout2d(p=0.5, inplace=False)\n",
              "  (fc1): Linear(in_features=320, out_features=50, bias=True)\n",
              "  (fc2): Linear(in_features=50, out_features=10, bias=True)\n",
              ")"
            ]
          },
          "metadata": {
            "tags": []
          },
          "execution_count": 34
        }
      ]
    },
    {
      "cell_type": "code",
      "metadata": {
        "colab": {
          "base_uri": "https://localhost:8080/"
        },
        "id": "oR5f79KzD38r",
        "outputId": "8139a24e-4b06-4ebe-f5d8-b27f73c131e3"
      },
      "source": [
        "test()\n",
        "for epoch in range(1, n_epochs + 1):\n",
        "  train(epoch)\n",
        "  test()"
      ],
      "execution_count": 35,
      "outputs": [
        {
          "output_type": "stream",
          "text": [
            "/usr/local/lib/python3.6/dist-packages/ipykernel_launcher.py:19: UserWarning: Implicit dimension choice for log_softmax has been deprecated. Change the call to include dim=X as an argument.\n",
            "/usr/local/lib/python3.6/dist-packages/torch/nn/_reduction.py:44: UserWarning: size_average and reduce args will be deprecated, please use reduction='sum' instead.\n",
            "  warnings.warn(warning.format(ret))\n"
          ],
          "name": "stderr"
        },
        {
          "output_type": "stream",
          "text": [
            "\n",
            "Test set: Avg. loss: 2.2853, Accuracy: 1396/10000 (14%)\n",
            "\n",
            "Train Epoch: 1 [0/60000 (0%)]\tLoss: 2.324827\n",
            "Train Epoch: 1 [640/60000 (1%)]\tLoss: 2.301638\n",
            "Train Epoch: 1 [1280/60000 (2%)]\tLoss: 2.235379\n",
            "Train Epoch: 1 [1920/60000 (3%)]\tLoss: 2.275776\n",
            "Train Epoch: 1 [2560/60000 (4%)]\tLoss: 2.170403\n",
            "Train Epoch: 1 [3200/60000 (5%)]\tLoss: 2.048336\n",
            "Train Epoch: 1 [3840/60000 (6%)]\tLoss: 1.958936\n",
            "Train Epoch: 1 [4480/60000 (7%)]\tLoss: 1.889362\n",
            "Train Epoch: 1 [5120/60000 (9%)]\tLoss: 1.884098\n",
            "Train Epoch: 1 [5760/60000 (10%)]\tLoss: 1.823568\n",
            "Train Epoch: 1 [6400/60000 (11%)]\tLoss: 1.728887\n",
            "Train Epoch: 1 [7040/60000 (12%)]\tLoss: 1.649423\n",
            "Train Epoch: 1 [7680/60000 (13%)]\tLoss: 1.384680\n",
            "Train Epoch: 1 [8320/60000 (14%)]\tLoss: 1.212710\n",
            "Train Epoch: 1 [8960/60000 (15%)]\tLoss: 1.048029\n",
            "Train Epoch: 1 [9600/60000 (16%)]\tLoss: 1.032260\n",
            "Train Epoch: 1 [10240/60000 (17%)]\tLoss: 1.037698\n",
            "Train Epoch: 1 [10880/60000 (18%)]\tLoss: 0.998364\n",
            "Train Epoch: 1 [11520/60000 (19%)]\tLoss: 1.027012\n",
            "Train Epoch: 1 [12160/60000 (20%)]\tLoss: 0.889701\n",
            "Train Epoch: 1 [12800/60000 (21%)]\tLoss: 0.851001\n",
            "Train Epoch: 1 [13440/60000 (22%)]\tLoss: 0.953531\n",
            "Train Epoch: 1 [14080/60000 (23%)]\tLoss: 0.922851\n",
            "Train Epoch: 1 [14720/60000 (25%)]\tLoss: 0.720628\n",
            "Train Epoch: 1 [15360/60000 (26%)]\tLoss: 1.074586\n",
            "Train Epoch: 1 [16000/60000 (27%)]\tLoss: 1.013114\n",
            "Train Epoch: 1 [16640/60000 (28%)]\tLoss: 0.842480\n",
            "Train Epoch: 1 [17280/60000 (29%)]\tLoss: 0.807060\n",
            "Train Epoch: 1 [17920/60000 (30%)]\tLoss: 0.922440\n",
            "Train Epoch: 1 [18560/60000 (31%)]\tLoss: 0.952956\n",
            "Train Epoch: 1 [19200/60000 (32%)]\tLoss: 0.536910\n",
            "Train Epoch: 1 [19840/60000 (33%)]\tLoss: 0.581616\n",
            "Train Epoch: 1 [20480/60000 (34%)]\tLoss: 0.642335\n",
            "Train Epoch: 1 [21120/60000 (35%)]\tLoss: 0.678153\n",
            "Train Epoch: 1 [21760/60000 (36%)]\tLoss: 0.709032\n",
            "Train Epoch: 1 [22400/60000 (37%)]\tLoss: 1.013825\n",
            "Train Epoch: 1 [23040/60000 (38%)]\tLoss: 0.578526\n",
            "Train Epoch: 1 [23680/60000 (39%)]\tLoss: 0.727507\n",
            "Train Epoch: 1 [24320/60000 (41%)]\tLoss: 0.667565\n",
            "Train Epoch: 1 [24960/60000 (42%)]\tLoss: 0.885976\n",
            "Train Epoch: 1 [25600/60000 (43%)]\tLoss: 0.476632\n",
            "Train Epoch: 1 [26240/60000 (44%)]\tLoss: 0.453014\n",
            "Train Epoch: 1 [26880/60000 (45%)]\tLoss: 0.619855\n",
            "Train Epoch: 1 [27520/60000 (46%)]\tLoss: 0.581680\n",
            "Train Epoch: 1 [28160/60000 (47%)]\tLoss: 0.650512\n",
            "Train Epoch: 1 [28800/60000 (48%)]\tLoss: 0.650697\n",
            "Train Epoch: 1 [29440/60000 (49%)]\tLoss: 0.628185\n",
            "Train Epoch: 1 [30080/60000 (50%)]\tLoss: 0.427440\n",
            "Train Epoch: 1 [30720/60000 (51%)]\tLoss: 0.527179\n",
            "Train Epoch: 1 [31360/60000 (52%)]\tLoss: 0.475332\n",
            "Train Epoch: 1 [32000/60000 (53%)]\tLoss: 0.606168\n",
            "Train Epoch: 1 [32640/60000 (54%)]\tLoss: 0.477967\n",
            "Train Epoch: 1 [33280/60000 (55%)]\tLoss: 0.742522\n",
            "Train Epoch: 1 [33920/60000 (57%)]\tLoss: 0.541907\n",
            "Train Epoch: 1 [34560/60000 (58%)]\tLoss: 0.455969\n",
            "Train Epoch: 1 [35200/60000 (59%)]\tLoss: 0.638919\n",
            "Train Epoch: 1 [35840/60000 (60%)]\tLoss: 0.515860\n",
            "Train Epoch: 1 [36480/60000 (61%)]\tLoss: 0.465305\n",
            "Train Epoch: 1 [37120/60000 (62%)]\tLoss: 0.519325\n",
            "Train Epoch: 1 [37760/60000 (63%)]\tLoss: 0.595611\n",
            "Train Epoch: 1 [38400/60000 (64%)]\tLoss: 0.597113\n",
            "Train Epoch: 1 [39040/60000 (65%)]\tLoss: 0.446234\n",
            "Train Epoch: 1 [39680/60000 (66%)]\tLoss: 0.668849\n",
            "Train Epoch: 1 [40320/60000 (67%)]\tLoss: 0.467141\n",
            "Train Epoch: 1 [40960/60000 (68%)]\tLoss: 0.338877\n",
            "Train Epoch: 1 [41600/60000 (69%)]\tLoss: 0.539673\n",
            "Train Epoch: 1 [42240/60000 (70%)]\tLoss: 0.642409\n",
            "Train Epoch: 1 [42880/60000 (71%)]\tLoss: 0.427265\n",
            "Train Epoch: 1 [43520/60000 (72%)]\tLoss: 0.465998\n",
            "Train Epoch: 1 [44160/60000 (74%)]\tLoss: 0.397231\n",
            "Train Epoch: 1 [44800/60000 (75%)]\tLoss: 0.580050\n",
            "Train Epoch: 1 [45440/60000 (76%)]\tLoss: 0.511611\n",
            "Train Epoch: 1 [46080/60000 (77%)]\tLoss: 0.412388\n",
            "Train Epoch: 1 [46720/60000 (78%)]\tLoss: 0.570466\n",
            "Train Epoch: 1 [47360/60000 (79%)]\tLoss: 0.347902\n",
            "Train Epoch: 1 [48000/60000 (80%)]\tLoss: 0.596264\n",
            "Train Epoch: 1 [48640/60000 (81%)]\tLoss: 0.446366\n",
            "Train Epoch: 1 [49280/60000 (82%)]\tLoss: 0.674092\n",
            "Train Epoch: 1 [49920/60000 (83%)]\tLoss: 0.537469\n",
            "Train Epoch: 1 [50560/60000 (84%)]\tLoss: 0.443357\n",
            "Train Epoch: 1 [51200/60000 (85%)]\tLoss: 0.571130\n",
            "Train Epoch: 1 [51840/60000 (86%)]\tLoss: 0.794695\n",
            "Train Epoch: 1 [52480/60000 (87%)]\tLoss: 0.320438\n",
            "Train Epoch: 1 [53120/60000 (88%)]\tLoss: 0.494495\n",
            "Train Epoch: 1 [53760/60000 (90%)]\tLoss: 0.385694\n",
            "Train Epoch: 1 [54400/60000 (91%)]\tLoss: 0.368119\n",
            "Train Epoch: 1 [55040/60000 (92%)]\tLoss: 0.418413\n",
            "Train Epoch: 1 [55680/60000 (93%)]\tLoss: 0.378011\n",
            "Train Epoch: 1 [56320/60000 (94%)]\tLoss: 0.381139\n",
            "Train Epoch: 1 [56960/60000 (95%)]\tLoss: 0.394458\n",
            "Train Epoch: 1 [57600/60000 (96%)]\tLoss: 0.603029\n",
            "Train Epoch: 1 [58240/60000 (97%)]\tLoss: 0.453565\n",
            "Train Epoch: 1 [58880/60000 (98%)]\tLoss: 0.227734\n",
            "Train Epoch: 1 [59520/60000 (99%)]\tLoss: 0.345171\n",
            "\n",
            "Test set: Avg. loss: 0.1613, Accuracy: 9510/10000 (95%)\n",
            "\n",
            "Train Epoch: 2 [0/60000 (0%)]\tLoss: 0.324893\n",
            "Train Epoch: 2 [640/60000 (1%)]\tLoss: 0.336743\n",
            "Train Epoch: 2 [1280/60000 (2%)]\tLoss: 0.310039\n",
            "Train Epoch: 2 [1920/60000 (3%)]\tLoss: 0.475523\n",
            "Train Epoch: 2 [2560/60000 (4%)]\tLoss: 0.333651\n",
            "Train Epoch: 2 [3200/60000 (5%)]\tLoss: 0.396674\n",
            "Train Epoch: 2 [3840/60000 (6%)]\tLoss: 0.644847\n",
            "Train Epoch: 2 [4480/60000 (7%)]\tLoss: 0.519249\n",
            "Train Epoch: 2 [5120/60000 (9%)]\tLoss: 0.424984\n",
            "Train Epoch: 2 [5760/60000 (10%)]\tLoss: 0.414272\n",
            "Train Epoch: 2 [6400/60000 (11%)]\tLoss: 0.314955\n",
            "Train Epoch: 2 [7040/60000 (12%)]\tLoss: 0.437413\n",
            "Train Epoch: 2 [7680/60000 (13%)]\tLoss: 0.350480\n",
            "Train Epoch: 2 [8320/60000 (14%)]\tLoss: 0.640911\n",
            "Train Epoch: 2 [8960/60000 (15%)]\tLoss: 0.441566\n",
            "Train Epoch: 2 [9600/60000 (16%)]\tLoss: 0.273509\n",
            "Train Epoch: 2 [10240/60000 (17%)]\tLoss: 0.371448\n",
            "Train Epoch: 2 [10880/60000 (18%)]\tLoss: 0.610978\n",
            "Train Epoch: 2 [11520/60000 (19%)]\tLoss: 0.364450\n",
            "Train Epoch: 2 [12160/60000 (20%)]\tLoss: 0.300913\n",
            "Train Epoch: 2 [12800/60000 (21%)]\tLoss: 0.226907\n",
            "Train Epoch: 2 [13440/60000 (22%)]\tLoss: 0.315528\n",
            "Train Epoch: 2 [14080/60000 (23%)]\tLoss: 0.316109\n",
            "Train Epoch: 2 [14720/60000 (25%)]\tLoss: 0.317687\n",
            "Train Epoch: 2 [15360/60000 (26%)]\tLoss: 0.364563\n",
            "Train Epoch: 2 [16000/60000 (27%)]\tLoss: 0.412686\n",
            "Train Epoch: 2 [16640/60000 (28%)]\tLoss: 0.559583\n",
            "Train Epoch: 2 [17280/60000 (29%)]\tLoss: 0.248334\n",
            "Train Epoch: 2 [17920/60000 (30%)]\tLoss: 0.544498\n",
            "Train Epoch: 2 [18560/60000 (31%)]\tLoss: 0.551194\n",
            "Train Epoch: 2 [19200/60000 (32%)]\tLoss: 0.334093\n",
            "Train Epoch: 2 [19840/60000 (33%)]\tLoss: 0.283616\n",
            "Train Epoch: 2 [20480/60000 (34%)]\tLoss: 0.238401\n",
            "Train Epoch: 2 [21120/60000 (35%)]\tLoss: 0.335287\n",
            "Train Epoch: 2 [21760/60000 (36%)]\tLoss: 0.384929\n",
            "Train Epoch: 2 [22400/60000 (37%)]\tLoss: 0.294743\n",
            "Train Epoch: 2 [23040/60000 (38%)]\tLoss: 0.225378\n",
            "Train Epoch: 2 [23680/60000 (39%)]\tLoss: 0.321495\n",
            "Train Epoch: 2 [24320/60000 (41%)]\tLoss: 0.457461\n",
            "Train Epoch: 2 [24960/60000 (42%)]\tLoss: 0.510535\n",
            "Train Epoch: 2 [25600/60000 (43%)]\tLoss: 0.271867\n",
            "Train Epoch: 2 [26240/60000 (44%)]\tLoss: 0.303975\n",
            "Train Epoch: 2 [26880/60000 (45%)]\tLoss: 0.376732\n",
            "Train Epoch: 2 [27520/60000 (46%)]\tLoss: 0.326307\n",
            "Train Epoch: 2 [28160/60000 (47%)]\tLoss: 0.415218\n",
            "Train Epoch: 2 [28800/60000 (48%)]\tLoss: 0.271830\n",
            "Train Epoch: 2 [29440/60000 (49%)]\tLoss: 0.394132\n",
            "Train Epoch: 2 [30080/60000 (50%)]\tLoss: 0.226193\n",
            "Train Epoch: 2 [30720/60000 (51%)]\tLoss: 0.423897\n",
            "Train Epoch: 2 [31360/60000 (52%)]\tLoss: 0.227054\n",
            "Train Epoch: 2 [32000/60000 (53%)]\tLoss: 0.321229\n",
            "Train Epoch: 2 [32640/60000 (54%)]\tLoss: 0.311268\n",
            "Train Epoch: 2 [33280/60000 (55%)]\tLoss: 0.214758\n",
            "Train Epoch: 2 [33920/60000 (57%)]\tLoss: 0.378908\n",
            "Train Epoch: 2 [34560/60000 (58%)]\tLoss: 0.568662\n",
            "Train Epoch: 2 [35200/60000 (59%)]\tLoss: 0.296183\n",
            "Train Epoch: 2 [35840/60000 (60%)]\tLoss: 0.464845\n",
            "Train Epoch: 2 [36480/60000 (61%)]\tLoss: 0.382558\n",
            "Train Epoch: 2 [37120/60000 (62%)]\tLoss: 0.257504\n",
            "Train Epoch: 2 [37760/60000 (63%)]\tLoss: 0.279107\n",
            "Train Epoch: 2 [38400/60000 (64%)]\tLoss: 0.282062\n",
            "Train Epoch: 2 [39040/60000 (65%)]\tLoss: 0.622420\n",
            "Train Epoch: 2 [39680/60000 (66%)]\tLoss: 0.600714\n",
            "Train Epoch: 2 [40320/60000 (67%)]\tLoss: 0.414759\n",
            "Train Epoch: 2 [40960/60000 (68%)]\tLoss: 0.352481\n",
            "Train Epoch: 2 [41600/60000 (69%)]\tLoss: 0.258896\n",
            "Train Epoch: 2 [42240/60000 (70%)]\tLoss: 0.633250\n",
            "Train Epoch: 2 [42880/60000 (71%)]\tLoss: 0.238752\n",
            "Train Epoch: 2 [43520/60000 (72%)]\tLoss: 0.320233\n",
            "Train Epoch: 2 [44160/60000 (74%)]\tLoss: 0.294398\n",
            "Train Epoch: 2 [44800/60000 (75%)]\tLoss: 0.298734\n",
            "Train Epoch: 2 [45440/60000 (76%)]\tLoss: 0.336134\n",
            "Train Epoch: 2 [46080/60000 (77%)]\tLoss: 0.202259\n",
            "Train Epoch: 2 [46720/60000 (78%)]\tLoss: 0.330916\n",
            "Train Epoch: 2 [47360/60000 (79%)]\tLoss: 0.318244\n",
            "Train Epoch: 2 [48000/60000 (80%)]\tLoss: 0.452078\n",
            "Train Epoch: 2 [48640/60000 (81%)]\tLoss: 0.386833\n",
            "Train Epoch: 2 [49280/60000 (82%)]\tLoss: 0.398273\n",
            "Train Epoch: 2 [49920/60000 (83%)]\tLoss: 0.365898\n",
            "Train Epoch: 2 [50560/60000 (84%)]\tLoss: 0.228797\n",
            "Train Epoch: 2 [51200/60000 (85%)]\tLoss: 0.201640\n",
            "Train Epoch: 2 [51840/60000 (86%)]\tLoss: 0.266759\n",
            "Train Epoch: 2 [52480/60000 (87%)]\tLoss: 0.228519\n",
            "Train Epoch: 2 [53120/60000 (88%)]\tLoss: 0.409509\n",
            "Train Epoch: 2 [53760/60000 (90%)]\tLoss: 0.226226\n",
            "Train Epoch: 2 [54400/60000 (91%)]\tLoss: 0.272974\n",
            "Train Epoch: 2 [55040/60000 (92%)]\tLoss: 0.402681\n",
            "Train Epoch: 2 [55680/60000 (93%)]\tLoss: 0.536994\n",
            "Train Epoch: 2 [56320/60000 (94%)]\tLoss: 0.491373\n",
            "Train Epoch: 2 [56960/60000 (95%)]\tLoss: 0.474324\n",
            "Train Epoch: 2 [57600/60000 (96%)]\tLoss: 0.141705\n",
            "Train Epoch: 2 [58240/60000 (97%)]\tLoss: 0.228150\n",
            "Train Epoch: 2 [58880/60000 (98%)]\tLoss: 0.219720\n",
            "Train Epoch: 2 [59520/60000 (99%)]\tLoss: 0.359158\n",
            "\n",
            "Test set: Avg. loss: 0.1061, Accuracy: 9665/10000 (97%)\n",
            "\n",
            "Train Epoch: 3 [0/60000 (0%)]\tLoss: 0.356147\n",
            "Train Epoch: 3 [640/60000 (1%)]\tLoss: 0.203025\n",
            "Train Epoch: 3 [1280/60000 (2%)]\tLoss: 0.437042\n",
            "Train Epoch: 3 [1920/60000 (3%)]\tLoss: 0.157774\n",
            "Train Epoch: 3 [2560/60000 (4%)]\tLoss: 0.159756\n",
            "Train Epoch: 3 [3200/60000 (5%)]\tLoss: 0.259453\n",
            "Train Epoch: 3 [3840/60000 (6%)]\tLoss: 0.183818\n",
            "Train Epoch: 3 [4480/60000 (7%)]\tLoss: 0.232744\n",
            "Train Epoch: 3 [5120/60000 (9%)]\tLoss: 0.297321\n",
            "Train Epoch: 3 [5760/60000 (10%)]\tLoss: 0.361397\n",
            "Train Epoch: 3 [6400/60000 (11%)]\tLoss: 0.283494\n",
            "Train Epoch: 3 [7040/60000 (12%)]\tLoss: 0.115462\n",
            "Train Epoch: 3 [7680/60000 (13%)]\tLoss: 0.181884\n",
            "Train Epoch: 3 [8320/60000 (14%)]\tLoss: 0.324092\n",
            "Train Epoch: 3 [8960/60000 (15%)]\tLoss: 0.148275\n",
            "Train Epoch: 3 [9600/60000 (16%)]\tLoss: 0.301736\n",
            "Train Epoch: 3 [10240/60000 (17%)]\tLoss: 0.152648\n",
            "Train Epoch: 3 [10880/60000 (18%)]\tLoss: 0.557635\n",
            "Train Epoch: 3 [11520/60000 (19%)]\tLoss: 0.194246\n",
            "Train Epoch: 3 [12160/60000 (20%)]\tLoss: 0.367220\n",
            "Train Epoch: 3 [12800/60000 (21%)]\tLoss: 0.346215\n",
            "Train Epoch: 3 [13440/60000 (22%)]\tLoss: 0.344185\n",
            "Train Epoch: 3 [14080/60000 (23%)]\tLoss: 0.156590\n",
            "Train Epoch: 3 [14720/60000 (25%)]\tLoss: 0.394119\n",
            "Train Epoch: 3 [15360/60000 (26%)]\tLoss: 0.231608\n",
            "Train Epoch: 3 [16000/60000 (27%)]\tLoss: 0.224811\n",
            "Train Epoch: 3 [16640/60000 (28%)]\tLoss: 0.426547\n",
            "Train Epoch: 3 [17280/60000 (29%)]\tLoss: 0.124745\n",
            "Train Epoch: 3 [17920/60000 (30%)]\tLoss: 0.276809\n",
            "Train Epoch: 3 [18560/60000 (31%)]\tLoss: 0.261724\n",
            "Train Epoch: 3 [19200/60000 (32%)]\tLoss: 0.349425\n",
            "Train Epoch: 3 [19840/60000 (33%)]\tLoss: 0.135672\n",
            "Train Epoch: 3 [20480/60000 (34%)]\tLoss: 0.278675\n",
            "Train Epoch: 3 [21120/60000 (35%)]\tLoss: 0.161800\n",
            "Train Epoch: 3 [21760/60000 (36%)]\tLoss: 0.226428\n",
            "Train Epoch: 3 [22400/60000 (37%)]\tLoss: 0.443213\n",
            "Train Epoch: 3 [23040/60000 (38%)]\tLoss: 0.288465\n",
            "Train Epoch: 3 [23680/60000 (39%)]\tLoss: 0.132604\n",
            "Train Epoch: 3 [24320/60000 (41%)]\tLoss: 0.212363\n",
            "Train Epoch: 3 [24960/60000 (42%)]\tLoss: 0.175298\n",
            "Train Epoch: 3 [25600/60000 (43%)]\tLoss: 0.312811\n",
            "Train Epoch: 3 [26240/60000 (44%)]\tLoss: 0.159801\n",
            "Train Epoch: 3 [26880/60000 (45%)]\tLoss: 0.241877\n",
            "Train Epoch: 3 [27520/60000 (46%)]\tLoss: 0.236481\n",
            "Train Epoch: 3 [28160/60000 (47%)]\tLoss: 0.206353\n",
            "Train Epoch: 3 [28800/60000 (48%)]\tLoss: 0.215998\n",
            "Train Epoch: 3 [29440/60000 (49%)]\tLoss: 0.255175\n",
            "Train Epoch: 3 [30080/60000 (50%)]\tLoss: 0.239907\n",
            "Train Epoch: 3 [30720/60000 (51%)]\tLoss: 0.497137\n",
            "Train Epoch: 3 [31360/60000 (52%)]\tLoss: 0.338039\n",
            "Train Epoch: 3 [32000/60000 (53%)]\tLoss: 0.229137\n",
            "Train Epoch: 3 [32640/60000 (54%)]\tLoss: 0.213935\n",
            "Train Epoch: 3 [33280/60000 (55%)]\tLoss: 0.430439\n",
            "Train Epoch: 3 [33920/60000 (57%)]\tLoss: 0.224875\n",
            "Train Epoch: 3 [34560/60000 (58%)]\tLoss: 0.476008\n",
            "Train Epoch: 3 [35200/60000 (59%)]\tLoss: 0.249903\n",
            "Train Epoch: 3 [35840/60000 (60%)]\tLoss: 0.242818\n",
            "Train Epoch: 3 [36480/60000 (61%)]\tLoss: 0.092427\n",
            "Train Epoch: 3 [37120/60000 (62%)]\tLoss: 0.411450\n",
            "Train Epoch: 3 [37760/60000 (63%)]\tLoss: 0.237052\n",
            "Train Epoch: 3 [38400/60000 (64%)]\tLoss: 0.214220\n",
            "Train Epoch: 3 [39040/60000 (65%)]\tLoss: 0.315692\n",
            "Train Epoch: 3 [39680/60000 (66%)]\tLoss: 0.252136\n",
            "Train Epoch: 3 [40320/60000 (67%)]\tLoss: 0.204230\n",
            "Train Epoch: 3 [40960/60000 (68%)]\tLoss: 0.302008\n",
            "Train Epoch: 3 [41600/60000 (69%)]\tLoss: 0.304795\n",
            "Train Epoch: 3 [42240/60000 (70%)]\tLoss: 0.215918\n",
            "Train Epoch: 3 [42880/60000 (71%)]\tLoss: 0.189293\n",
            "Train Epoch: 3 [43520/60000 (72%)]\tLoss: 0.179582\n",
            "Train Epoch: 3 [44160/60000 (74%)]\tLoss: 0.641933\n",
            "Train Epoch: 3 [44800/60000 (75%)]\tLoss: 0.187997\n",
            "Train Epoch: 3 [45440/60000 (76%)]\tLoss: 0.162048\n",
            "Train Epoch: 3 [46080/60000 (77%)]\tLoss: 0.278307\n",
            "Train Epoch: 3 [46720/60000 (78%)]\tLoss: 0.226867\n",
            "Train Epoch: 3 [47360/60000 (79%)]\tLoss: 0.122430\n",
            "Train Epoch: 3 [48000/60000 (80%)]\tLoss: 0.304302\n",
            "Train Epoch: 3 [48640/60000 (81%)]\tLoss: 0.097318\n",
            "Train Epoch: 3 [49280/60000 (82%)]\tLoss: 0.272453\n",
            "Train Epoch: 3 [49920/60000 (83%)]\tLoss: 0.292657\n",
            "Train Epoch: 3 [50560/60000 (84%)]\tLoss: 0.200782\n",
            "Train Epoch: 3 [51200/60000 (85%)]\tLoss: 0.174082\n",
            "Train Epoch: 3 [51840/60000 (86%)]\tLoss: 0.330719\n",
            "Train Epoch: 3 [52480/60000 (87%)]\tLoss: 0.531363\n",
            "Train Epoch: 3 [53120/60000 (88%)]\tLoss: 0.145473\n",
            "Train Epoch: 3 [53760/60000 (90%)]\tLoss: 0.198307\n",
            "Train Epoch: 3 [54400/60000 (91%)]\tLoss: 0.203040\n",
            "Train Epoch: 3 [55040/60000 (92%)]\tLoss: 0.242285\n",
            "Train Epoch: 3 [55680/60000 (93%)]\tLoss: 0.133289\n",
            "Train Epoch: 3 [56320/60000 (94%)]\tLoss: 0.153654\n",
            "Train Epoch: 3 [56960/60000 (95%)]\tLoss: 0.349075\n",
            "Train Epoch: 3 [57600/60000 (96%)]\tLoss: 0.285979\n",
            "Train Epoch: 3 [58240/60000 (97%)]\tLoss: 0.077105\n",
            "Train Epoch: 3 [58880/60000 (98%)]\tLoss: 0.311678\n",
            "Train Epoch: 3 [59520/60000 (99%)]\tLoss: 0.328155\n",
            "\n",
            "Test set: Avg. loss: 0.0916, Accuracy: 9714/10000 (97%)\n",
            "\n"
          ],
          "name": "stdout"
        }
      ]
    },
    {
      "cell_type": "code",
      "metadata": {
        "colab": {
          "base_uri": "https://localhost:8080/"
        },
        "id": "7m5rLrejD38r",
        "outputId": "7b6e4650-1bd2-403e-a08c-7fd46bfc2a24"
      },
      "source": [
        "test_losses[0:4]\n"
      ],
      "execution_count": 36,
      "outputs": [
        {
          "output_type": "execute_result",
          "data": {
            "text/plain": [
              "[2.2853187744140624,\n",
              " 0.1613461601257324,\n",
              " 0.10610107498168946,\n",
              " 0.0915973991394043]"
            ]
          },
          "metadata": {
            "tags": []
          },
          "execution_count": 36
        }
      ]
    },
    {
      "cell_type": "code",
      "metadata": {
        "colab": {
          "base_uri": "https://localhost:8080/",
          "height": 296
        },
        "id": "k0hJePYGD38s",
        "outputId": "7274dac9-b539-47b5-d8ac-c3d4e4a2b1de"
      },
      "source": [
        "fig = plt.figure()\n",
        "plt.plot(train_counter, train_losses, color='blue')\n",
        "plt.scatter(test_counter, test_losses[0:4], color='red')\n",
        "plt.legend(['Train Loss', 'Test Loss'], loc='upper right')\n",
        "plt.xlabel('number of training examples seen')\n",
        "plt.ylabel('negative log likelihood loss')\n"
      ],
      "execution_count": 37,
      "outputs": [
        {
          "output_type": "execute_result",
          "data": {
            "text/plain": [
              "Text(0, 0.5, 'negative log likelihood loss')"
            ]
          },
          "metadata": {
            "tags": []
          },
          "execution_count": 37
        },
        {
          "output_type": "display_data",
          "data": {
            "image/png": "[encoded data removed]",
            "text/plain": [
              "<Figure size 432x288 with 1 Axes>"
            ]
          },
          "metadata": {
            "tags": [],
            "needs_background": "light"
          }
        }
      ]
    },
    {
      "cell_type": "code",
      "metadata": {
        "id": "F0SltQFWD38s",
        "colab": {
          "base_uri": "https://localhost:8080/"
        },
        "outputId": "cef0b211-cf53-4c80-b195-b32457549179"
      },
      "source": [
        "with torch.no_grad():\n",
        "  output = network(example_data)"
      ],
      "execution_count": 38,
      "outputs": [
        {
          "output_type": "stream",
          "text": [
            "/usr/local/lib/python3.6/dist-packages/ipykernel_launcher.py:19: UserWarning: Implicit dimension choice for log_softmax has been deprecated. Change the call to include dim=X as an argument.\n"
          ],
          "name": "stderr"
        }
      ]
    },
    {
      "cell_type": "code",
      "metadata": {
        "colab": {
          "base_uri": "https://localhost:8080/",
          "height": 551
        },
        "id": "FYUlSWMYD38s",
        "outputId": "025dca17-3cf4-4451-d409-abd1fa0488ae"
      },
      "source": [
        "fig = plt.figure()\n",
        "for i in range(6):\n",
        "  plt.subplot(2,3,i+1)\n",
        "  plt.tight_layout()\n",
        "  plt.imshow(example_data[i][0], cmap='gray', interpolation='none')\n",
        "  plt.title(\"Prediction: {}\".format(\n",
        "    output.data.max(1, keepdim=True)[1][i].item()))\n",
        "  plt.xticks([])\n",
        "  plt.yticks([])\n",
        "fig"
      ],
      "execution_count": 39,
      "outputs": [
        {
          "output_type": "execute_result",
          "data": {
            "image/png": "[encoded data removed]",
            "text/plain": [
              "<Figure size 432x288 with 6 Axes>"
            ]
          },
          "metadata": {
            "tags": []
          },
          "execution_count": 39
        },
        {
          "output_type": "display_data",
          "data": {
            "image/png": "[encoded data removed]",
            "text/plain": [
              "<Figure size 432x288 with 6 Axes>"
            ]
          },
          "metadata": {
            "tags": []
          }
        }
      ]
    },
    {
      "cell_type": "code",
      "metadata": {
        "id": "B6sc_Ve8I0WY"
      },
      "source": [
        "network.forward"
      ],
      "execution_count": null,
      "outputs": []
    },
    {
      "cell_type": "code",
      "metadata": {
        "colab": {
          "base_uri": "https://localhost:8080/",
          "height": 387
        },
        "id": "ilP_Fh_uHfBJ",
        "outputId": "72e21371-94fb-4b54-e6d2-37f307bebbe1"
      },
      "source": [
        "\n",
        "\n",
        "plot_saliencies=[1,100,200,1000,3000,4000]\n",
        "i=1\n",
        "\n",
        "# code to plot the saliency map as a heatmap\n",
        "for s in plot_saliencies:\n",
        "  plt.subplot(2,3,i)\n",
        "  plt.imshow(saliency(s,network), cmap=plt.cm.hot)\n",
        "\n",
        "  plt.axis('off')\n",
        "  i+=1\n",
        "\n",
        "plt.show()"
      ],
      "execution_count": 42,
      "outputs": [
        {
          "output_type": "stream",
          "text": [
            "2\n",
            "6\n",
            "3\n",
            "9\n",
            "6\n",
            "9\n"
          ],
          "name": "stdout"
        },
        {
          "output_type": "stream",
          "text": [
            "/usr/local/lib/python3.6/dist-packages/ipykernel_launcher.py:19: UserWarning: Implicit dimension choice for log_softmax has been deprecated. Change the call to include dim=X as an argument.\n"
          ],
          "name": "stderr"
        },
        {
          "output_type": "display_data",
          "data": {
            "image/png": "[encoded data removed]",
            "text/plain": [
              "<Figure size 432x288 with 6 Axes>"
            ]
          },
          "metadata": {
            "tags": [],
            "needs_background": "light"
          }
        }
      ]
    },
    {
      "cell_type": "code",
      "metadata": {
        "colab": {
          "base_uri": "https://localhost:8080/",
          "height": 248
        },
        "id": "HXzqbv02NMCF",
        "outputId": "f027edb6-5fd7-4d28-d98a-919fbde787b2"
      },
      "source": [
        "i=1\n",
        "for s in plot_saliencies:\n",
        "  plt.subplot(2,3,i)\n",
        "  plt.imshow(test_loader.dataset[s][0].numpy().reshape(28,28), cmap=\"gray\")\n",
        "\n",
        "  plt.axis('off')\n",
        "  i+=1\n",
        "\n",
        "plt.show()"
      ],
      "execution_count": 43,
      "outputs": [
        {
          "output_type": "display_data",
          "data": {
            "image/png": "[encoded data removed]",
            "text/plain": [
              "<Figure size 432x288 with 6 Axes>"
            ]
          },
          "metadata": {
            "tags": [],
            "needs_background": "light"
          }
        }
      ]
    },
    {
      "cell_type": "code",
      "metadata": {
        "colab": {
          "base_uri": "https://localhost:8080/"
        },
        "id": "UMfokc0sDeIX",
        "outputId": "70adc6c9-1aa6-4754-9b7a-99d30cc506b5"
      },
      "source": [
        "network\n"
      ],
      "execution_count": 46,
      "outputs": [
        {
          "output_type": "execute_result",
          "data": {
            "text/plain": [
              "Net_Attention(\n",
              "  (conv1): Conv2d(1, 10, kernel_size=(5, 5), stride=(1, 1))\n",
              "  (bam): BAM(\n",
              "    (channel_att): ch_attention(\n",
              "      (layers): Sequential(\n",
              "        (0): AdaptiveAvgPool2d(output_size=(1, 1))\n",
              "        (1): View()\n",
              "        (2): Linear(in_features=10, out_features=2, bias=False)\n",
              "        (3): BatchNorm1d(2, eps=1e-05, momentum=0.1, affine=True, track_running_stats=True)\n",
              "        (4): ReLU(inplace=True)\n",
              "        (5): Linear(in_features=2, out_features=10, bias=True)\n",
              "      )\n",
              "    )\n",
              "    (spatial_att): spatial_attention(\n",
              "      (layers): Sequential(\n",
              "        (0): Conv2d(10, 2, kernel_size=(1, 1), stride=(1, 1), bias=False)\n",
              "        (1): BatchNorm2d(2, eps=1e-05, momentum=0.1, affine=True, track_running_stats=True)\n",
              "        (2): ReLU(inplace=True)\n",
              "        (3): Conv2d(2, 2, kernel_size=(3, 3), stride=(1, 1), padding=(4, 4), dilation=(4, 4), bias=False)\n",
              "        (4): BatchNorm2d(2, eps=1e-05, momentum=0.1, affine=True, track_running_stats=True)\n",
              "        (5): ReLU(inplace=True)\n",
              "        (6): Conv2d(2, 2, kernel_size=(3, 3), stride=(1, 1), padding=(4, 4), dilation=(4, 4), bias=False)\n",
              "        (7): BatchNorm2d(2, eps=1e-05, momentum=0.1, affine=True, track_running_stats=True)\n",
              "        (8): ReLU(inplace=True)\n",
              "        (9): Conv2d(2, 1, kernel_size=(1, 1), stride=(1, 1))\n",
              "      )\n",
              "    )\n",
              "  )\n",
              "  (conv2): Conv2d(10, 20, kernel_size=(5, 5), stride=(1, 1))\n",
              "  (conv2_drop): Dropout2d(p=0.5, inplace=False)\n",
              "  (fc1): Linear(in_features=320, out_features=50, bias=True)\n",
              "  (fc2): Linear(in_features=50, out_features=10, bias=True)\n",
              ")"
            ]
          },
          "metadata": {
            "tags": []
          },
          "execution_count": 46
        }
      ]
    },
    {
      "cell_type": "code",
      "metadata": {
        "id": "orlmhspFDhBy"
      },
      "source": [
        "guided_gc=GuidedGradCam(network,network.conv2)"
      ],
      "execution_count": 47,
      "outputs": []
    },
    {
      "cell_type": "code",
      "metadata": {
        "colab": {
          "base_uri": "https://localhost:8080/",
          "height": 282
        },
        "id": "M-6utmqqDhBy",
        "outputId": "d422b5ef-f811-4d69-ce00-291f4f9c1c65"
      },
      "source": [
        "plt.imshow(test_loader.dataset[0][0].reshape(28,28))\n",
        "\n"
      ],
      "execution_count": 48,
      "outputs": [
        {
          "output_type": "execute_result",
          "data": {
            "text/plain": [
              "<matplotlib.image.AxesImage at 0x7f3dca93d5c0>"
            ]
          },
          "metadata": {
            "tags": []
          },
          "execution_count": 48
        },
        {
          "output_type": "display_data",
          "data": {
            "image/png": "[encoded data removed]",
            "text/plain": [
              "<Figure size 432x288 with 1 Axes>"
            ]
          },
          "metadata": {
            "tags": [],
            "needs_background": "light"
          }
        }
      ]
    },
    {
      "cell_type": "code",
      "metadata": {
        "colab": {
          "base_uri": "https://localhost:8080/",
          "height": 353
        },
        "id": "HjI0Fcs4DhBz",
        "outputId": "e2ee1c1f-6082-47d2-90f4-bf2b60bfc8c1"
      },
      "source": [
        "for predictions in range(0,10):\n",
        "  \n",
        "  attribution = guided_gc.attribute(test_loader.dataset[0][0].reshape(1,1,28,28),predictions)\n",
        "  plt.subplot(2,5,predictions+1)\n",
        "  plt.imshow(attribution.detach().numpy().reshape(28,28),cmap=plt.cm.hot)\n",
        "plt.colorbar()"
      ],
      "execution_count": 49,
      "outputs": [
        {
          "output_type": "stream",
          "text": [
            "/usr/local/lib/python3.6/dist-packages/captum/_utils/gradient.py:55: UserWarning: Input Tensor 0 did not already require gradients, required_grads has been set automatically.\n",
            "  \"required_grads has been set automatically.\" % index\n",
            "/usr/local/lib/python3.6/dist-packages/ipykernel_launcher.py:19: UserWarning: Implicit dimension choice for log_softmax has been deprecated. Change the call to include dim=X as an argument.\n",
            "/usr/local/lib/python3.6/dist-packages/captum/attr/_core/guided_backprop_deconvnet.py:61: UserWarning: Setting backward hooks on ReLU activations.The hooks will be removed after the attribution is finished\n",
            "  \"Setting backward hooks on ReLU activations.\"\n"
          ],
          "name": "stderr"
        },
        {
          "output_type": "execute_result",
          "data": {
            "text/plain": [
              "<matplotlib.colorbar.Colorbar at 0x7f3dcaa47358>"
            ]
          },
          "metadata": {
            "tags": []
          },
          "execution_count": 49
        },
        {
          "output_type": "display_data",
          "data": {
            "image/png": "[encoded data removed]",
            "text/plain": [
              "<Figure size 432x288 with 11 Axes>"
            ]
          },
          "metadata": {
            "tags": [],
            "needs_background": "light"
          }
        }
      ]
    },
    {
      "cell_type": "markdown",
      "metadata": {
        "id": "PId-U-LuOEdS"
      },
      "source": [
        "# Spatial Only\n"
      ]
    },
    {
      "cell_type": "code",
      "metadata": {
        "id": "G96WOIIxOG4D"
      },
      "source": [
        ""
      ],
      "execution_count": null,
      "outputs": []
    },
    {
      "cell_type": "code",
      "metadata": {
        "id": "rkvlQu62j3wl"
      },
      "source": [
        "class Net_Attention_spatial(nn.Module):\n",
        "    def __init__(self):\n",
        "        super(Net_Attention_spatial, self).__init__()\n",
        "        self.conv1 = nn.Conv2d(1, 10, kernel_size=5)\n",
        "        self.bam=BAM_spatial(10,r=5)\n",
        "        self.conv2 = nn.Conv2d(10, 20, kernel_size=5)\n",
        "        self.conv2_drop = nn.Dropout2d()\n",
        "        self.fc1 = nn.Linear(320, 50)\n",
        "        self.fc2 = nn.Linear(50, 10)\n",
        "\n",
        "    def forward(self, x):\n",
        "        x = F.relu(F.max_pool2d(self.conv1(x), 2))\n",
        "        x=self.bam(x)\n",
        "        x = F.relu(F.max_pool2d(self.conv2_drop(self.conv2(x)), 2))\n",
        "        x = x.view(-1, 320)\n",
        "        x = F.relu(self.fc1(x))\n",
        "        x = F.dropout(x, training=self.training)\n",
        "        x = self.fc2(x)\n",
        "        return F.log_softmax(x)"
      ],
      "execution_count": 25,
      "outputs": []
    },
    {
      "cell_type": "code",
      "metadata": {
        "id": "yCBkSEnRj3wn"
      },
      "source": [
        "network = Net_Attention_spatial()\n",
        "optimizer = optim.SGD(network.parameters(), lr=learning_rate,\n",
        "                      momentum=momentum)"
      ],
      "execution_count": 26,
      "outputs": []
    },
    {
      "cell_type": "code",
      "metadata": {
        "id": "6Hagpjv8j3wn"
      },
      "source": [
        "train_losses = []\n",
        "train_counter = []\n",
        "test_losses = []\n",
        "test_counter = [i*len(train_loader.dataset) for i in range(n_epochs + 1)]"
      ],
      "execution_count": 27,
      "outputs": []
    },
    {
      "cell_type": "code",
      "metadata": {
        "colab": {
          "base_uri": "https://localhost:8080/"
        },
        "id": "8-0KBsP6j3wn",
        "outputId": "35f8ae2d-49cd-4f88-e97b-622960b49126"
      },
      "source": [
        "network"
      ],
      "execution_count": 28,
      "outputs": [
        {
          "output_type": "execute_result",
          "data": {
            "text/plain": [
              "Net_Attention_spatial(\n",
              "  (conv1): Conv2d(1, 10, kernel_size=(5, 5), stride=(1, 1))\n",
              "  (bam): BAM_spatial(\n",
              "    (spatial_att): spatial_attention(\n",
              "      (layers): Sequential(\n",
              "        (0): Conv2d(10, 2, kernel_size=(1, 1), stride=(1, 1), bias=False)\n",
              "        (1): BatchNorm2d(2, eps=1e-05, momentum=0.1, affine=True, track_running_stats=True)\n",
              "        (2): ReLU(inplace=True)\n",
              "        (3): Conv2d(2, 2, kernel_size=(3, 3), stride=(1, 1), padding=(4, 4), dilation=(4, 4), bias=False)\n",
              "        (4): BatchNorm2d(2, eps=1e-05, momentum=0.1, affine=True, track_running_stats=True)\n",
              "        (5): ReLU(inplace=True)\n",
              "        (6): Conv2d(2, 2, kernel_size=(3, 3), stride=(1, 1), padding=(4, 4), dilation=(4, 4), bias=False)\n",
              "        (7): BatchNorm2d(2, eps=1e-05, momentum=0.1, affine=True, track_running_stats=True)\n",
              "        (8): ReLU(inplace=True)\n",
              "        (9): Conv2d(2, 1, kernel_size=(1, 1), stride=(1, 1))\n",
              "      )\n",
              "    )\n",
              "  )\n",
              "  (conv2): Conv2d(10, 20, kernel_size=(5, 5), stride=(1, 1))\n",
              "  (conv2_drop): Dropout2d(p=0.5, inplace=False)\n",
              "  (fc1): Linear(in_features=320, out_features=50, bias=True)\n",
              "  (fc2): Linear(in_features=50, out_features=10, bias=True)\n",
              ")"
            ]
          },
          "metadata": {
            "tags": []
          },
          "execution_count": 28
        }
      ]
    },
    {
      "cell_type": "code",
      "metadata": {
        "colab": {
          "base_uri": "https://localhost:8080/"
        },
        "id": "C-nAcwz9j3wq",
        "outputId": "73837499-6937-4494-a51a-7d3d42b7c890"
      },
      "source": [
        "test()\n",
        "for epoch in range(1, n_epochs + 1):\n",
        "  train(epoch)\n",
        "  test()"
      ],
      "execution_count": 31,
      "outputs": [
        {
          "output_type": "stream",
          "text": [
            "/usr/local/lib/python3.6/dist-packages/ipykernel_launcher.py:19: UserWarning: Implicit dimension choice for log_softmax has been deprecated. Change the call to include dim=X as an argument.\n",
            "/usr/local/lib/python3.6/dist-packages/torch/nn/_reduction.py:44: UserWarning: size_average and reduce args will be deprecated, please use reduction='sum' instead.\n",
            "  warnings.warn(warning.format(ret))\n"
          ],
          "name": "stderr"
        },
        {
          "output_type": "stream",
          "text": [
            "\n",
            "Test set: Avg. loss: 2.3220, Accuracy: 1756/10000 (18%)\n",
            "\n",
            "Train Epoch: 1 [0/60000 (0%)]\tLoss: 2.393227\n",
            "Train Epoch: 1 [640/60000 (1%)]\tLoss: 2.301782\n",
            "Train Epoch: 1 [1280/60000 (2%)]\tLoss: 2.241446\n",
            "Train Epoch: 1 [1920/60000 (3%)]\tLoss: 2.186762\n",
            "Train Epoch: 1 [2560/60000 (4%)]\tLoss: 2.156144\n",
            "Train Epoch: 1 [3200/60000 (5%)]\tLoss: 2.086363\n",
            "Train Epoch: 1 [3840/60000 (6%)]\tLoss: 2.117015\n",
            "Train Epoch: 1 [4480/60000 (7%)]\tLoss: 1.984804\n",
            "Train Epoch: 1 [5120/60000 (9%)]\tLoss: 1.752488\n",
            "Train Epoch: 1 [5760/60000 (10%)]\tLoss: 1.469601\n",
            "Train Epoch: 1 [6400/60000 (11%)]\tLoss: 1.786050\n",
            "Train Epoch: 1 [7040/60000 (12%)]\tLoss: 1.340033\n",
            "Train Epoch: 1 [7680/60000 (13%)]\tLoss: 1.335121\n",
            "Train Epoch: 1 [8320/60000 (14%)]\tLoss: 1.082111\n",
            "Train Epoch: 1 [8960/60000 (15%)]\tLoss: 1.168788\n",
            "Train Epoch: 1 [9600/60000 (16%)]\tLoss: 1.224120\n",
            "Train Epoch: 1 [10240/60000 (17%)]\tLoss: 1.111022\n",
            "Train Epoch: 1 [10880/60000 (18%)]\tLoss: 1.072388\n",
            "Train Epoch: 1 [11520/60000 (19%)]\tLoss: 1.150286\n",
            "Train Epoch: 1 [12160/60000 (20%)]\tLoss: 0.785734\n",
            "Train Epoch: 1 [12800/60000 (21%)]\tLoss: 0.992822\n",
            "Train Epoch: 1 [13440/60000 (22%)]\tLoss: 0.931127\n",
            "Train Epoch: 1 [14080/60000 (23%)]\tLoss: 0.809394\n",
            "Train Epoch: 1 [14720/60000 (25%)]\tLoss: 0.755511\n",
            "Train Epoch: 1 [15360/60000 (26%)]\tLoss: 0.861413\n",
            "Train Epoch: 1 [16000/60000 (27%)]\tLoss: 0.813206\n",
            "Train Epoch: 1 [16640/60000 (28%)]\tLoss: 0.790394\n",
            "Train Epoch: 1 [17280/60000 (29%)]\tLoss: 0.759912\n",
            "Train Epoch: 1 [17920/60000 (30%)]\tLoss: 0.908603\n",
            "Train Epoch: 1 [18560/60000 (31%)]\tLoss: 0.748129\n",
            "Train Epoch: 1 [19200/60000 (32%)]\tLoss: 0.635301\n",
            "Train Epoch: 1 [19840/60000 (33%)]\tLoss: 0.654062\n",
            "Train Epoch: 1 [20480/60000 (34%)]\tLoss: 0.676647\n",
            "Train Epoch: 1 [21120/60000 (35%)]\tLoss: 0.693711\n",
            "Train Epoch: 1 [21760/60000 (36%)]\tLoss: 0.643714\n",
            "Train Epoch: 1 [22400/60000 (37%)]\tLoss: 0.927182\n",
            "Train Epoch: 1 [23040/60000 (38%)]\tLoss: 0.645735\n",
            "Train Epoch: 1 [23680/60000 (39%)]\tLoss: 0.552200\n",
            "Train Epoch: 1 [24320/60000 (41%)]\tLoss: 0.622264\n",
            "Train Epoch: 1 [24960/60000 (42%)]\tLoss: 0.483657\n",
            "Train Epoch: 1 [25600/60000 (43%)]\tLoss: 0.704695\n",
            "Train Epoch: 1 [26240/60000 (44%)]\tLoss: 0.506416\n",
            "Train Epoch: 1 [26880/60000 (45%)]\tLoss: 0.542468\n",
            "Train Epoch: 1 [27520/60000 (46%)]\tLoss: 0.656141\n",
            "Train Epoch: 1 [28160/60000 (47%)]\tLoss: 0.594398\n",
            "Train Epoch: 1 [28800/60000 (48%)]\tLoss: 0.482397\n",
            "Train Epoch: 1 [29440/60000 (49%)]\tLoss: 0.508468\n",
            "Train Epoch: 1 [30080/60000 (50%)]\tLoss: 0.722222\n",
            "Train Epoch: 1 [30720/60000 (51%)]\tLoss: 0.527775\n",
            "Train Epoch: 1 [31360/60000 (52%)]\tLoss: 0.387977\n",
            "Train Epoch: 1 [32000/60000 (53%)]\tLoss: 0.581010\n",
            "Train Epoch: 1 [32640/60000 (54%)]\tLoss: 0.729745\n",
            "Train Epoch: 1 [33280/60000 (55%)]\tLoss: 0.355775\n",
            "Train Epoch: 1 [33920/60000 (57%)]\tLoss: 0.275634\n",
            "Train Epoch: 1 [34560/60000 (58%)]\tLoss: 0.547344\n",
            "Train Epoch: 1 [35200/60000 (59%)]\tLoss: 0.540746\n",
            "Train Epoch: 1 [35840/60000 (60%)]\tLoss: 0.523472\n",
            "Train Epoch: 1 [36480/60000 (61%)]\tLoss: 0.441452\n",
            "Train Epoch: 1 [37120/60000 (62%)]\tLoss: 0.478314\n",
            "Train Epoch: 1 [37760/60000 (63%)]\tLoss: 0.502182\n",
            "Train Epoch: 1 [38400/60000 (64%)]\tLoss: 0.648781\n",
            "Train Epoch: 1 [39040/60000 (65%)]\tLoss: 0.453267\n",
            "Train Epoch: 1 [39680/60000 (66%)]\tLoss: 0.928946\n",
            "Train Epoch: 1 [40320/60000 (67%)]\tLoss: 0.357880\n",
            "Train Epoch: 1 [40960/60000 (68%)]\tLoss: 0.333247\n",
            "Train Epoch: 1 [41600/60000 (69%)]\tLoss: 0.429372\n",
            "Train Epoch: 1 [42240/60000 (70%)]\tLoss: 0.425804\n",
            "Train Epoch: 1 [42880/60000 (71%)]\tLoss: 0.493286\n",
            "Train Epoch: 1 [43520/60000 (72%)]\tLoss: 0.538810\n",
            "Train Epoch: 1 [44160/60000 (74%)]\tLoss: 0.444874\n",
            "Train Epoch: 1 [44800/60000 (75%)]\tLoss: 0.534714\n",
            "Train Epoch: 1 [45440/60000 (76%)]\tLoss: 0.318467\n",
            "Train Epoch: 1 [46080/60000 (77%)]\tLoss: 0.307842\n",
            "Train Epoch: 1 [46720/60000 (78%)]\tLoss: 0.324748\n",
            "Train Epoch: 1 [47360/60000 (79%)]\tLoss: 0.432555\n",
            "Train Epoch: 1 [48000/60000 (80%)]\tLoss: 0.555404\n",
            "Train Epoch: 1 [48640/60000 (81%)]\tLoss: 0.374313\n",
            "Train Epoch: 1 [49280/60000 (82%)]\tLoss: 0.551316\n",
            "Train Epoch: 1 [49920/60000 (83%)]\tLoss: 0.620877\n",
            "Train Epoch: 1 [50560/60000 (84%)]\tLoss: 0.385897\n",
            "Train Epoch: 1 [51200/60000 (85%)]\tLoss: 0.410693\n",
            "Train Epoch: 1 [51840/60000 (86%)]\tLoss: 0.412495\n",
            "Train Epoch: 1 [52480/60000 (87%)]\tLoss: 0.267053\n",
            "Train Epoch: 1 [53120/60000 (88%)]\tLoss: 0.471222\n",
            "Train Epoch: 1 [53760/60000 (90%)]\tLoss: 0.423853\n",
            "Train Epoch: 1 [54400/60000 (91%)]\tLoss: 0.439982\n",
            "Train Epoch: 1 [55040/60000 (92%)]\tLoss: 0.409460\n",
            "Train Epoch: 1 [55680/60000 (93%)]\tLoss: 0.355746\n",
            "Train Epoch: 1 [56320/60000 (94%)]\tLoss: 0.301758\n",
            "Train Epoch: 1 [56960/60000 (95%)]\tLoss: 0.464590\n",
            "Train Epoch: 1 [57600/60000 (96%)]\tLoss: 0.228755\n",
            "Train Epoch: 1 [58240/60000 (97%)]\tLoss: 0.688372\n",
            "Train Epoch: 1 [58880/60000 (98%)]\tLoss: 0.459261\n",
            "Train Epoch: 1 [59520/60000 (99%)]\tLoss: 0.668454\n",
            "\n",
            "Test set: Avg. loss: 0.1748, Accuracy: 9502/10000 (95%)\n",
            "\n",
            "Train Epoch: 2 [0/60000 (0%)]\tLoss: 0.502738\n",
            "Train Epoch: 2 [640/60000 (1%)]\tLoss: 0.623368\n",
            "Train Epoch: 2 [1280/60000 (2%)]\tLoss: 0.317283\n",
            "Train Epoch: 2 [1920/60000 (3%)]\tLoss: 0.416996\n",
            "Train Epoch: 2 [2560/60000 (4%)]\tLoss: 0.507052\n",
            "Train Epoch: 2 [3200/60000 (5%)]\tLoss: 0.440801\n",
            "Train Epoch: 2 [3840/60000 (6%)]\tLoss: 0.349994\n",
            "Train Epoch: 2 [4480/60000 (7%)]\tLoss: 0.325001\n",
            "Train Epoch: 2 [5120/60000 (9%)]\tLoss: 0.401869\n",
            "Train Epoch: 2 [5760/60000 (10%)]\tLoss: 0.239552\n",
            "Train Epoch: 2 [6400/60000 (11%)]\tLoss: 0.375284\n",
            "Train Epoch: 2 [7040/60000 (12%)]\tLoss: 0.311703\n",
            "Train Epoch: 2 [7680/60000 (13%)]\tLoss: 0.322670\n",
            "Train Epoch: 2 [8320/60000 (14%)]\tLoss: 0.349707\n",
            "Train Epoch: 2 [8960/60000 (15%)]\tLoss: 0.341256\n",
            "Train Epoch: 2 [9600/60000 (16%)]\tLoss: 0.719934\n",
            "Train Epoch: 2 [10240/60000 (17%)]\tLoss: 0.319889\n",
            "Train Epoch: 2 [10880/60000 (18%)]\tLoss: 0.296173\n",
            "Train Epoch: 2 [11520/60000 (19%)]\tLoss: 0.716765\n",
            "Train Epoch: 2 [12160/60000 (20%)]\tLoss: 0.459307\n",
            "Train Epoch: 2 [12800/60000 (21%)]\tLoss: 0.532453\n",
            "Train Epoch: 2 [13440/60000 (22%)]\tLoss: 0.469327\n",
            "Train Epoch: 2 [14080/60000 (23%)]\tLoss: 0.323261\n",
            "Train Epoch: 2 [14720/60000 (25%)]\tLoss: 0.328472\n",
            "Train Epoch: 2 [15360/60000 (26%)]\tLoss: 0.358044\n",
            "Train Epoch: 2 [16000/60000 (27%)]\tLoss: 0.237824\n",
            "Train Epoch: 2 [16640/60000 (28%)]\tLoss: 0.261415\n",
            "Train Epoch: 2 [17280/60000 (29%)]\tLoss: 0.225467\n",
            "Train Epoch: 2 [17920/60000 (30%)]\tLoss: 0.234121\n",
            "Train Epoch: 2 [18560/60000 (31%)]\tLoss: 0.452291\n",
            "Train Epoch: 2 [19200/60000 (32%)]\tLoss: 0.514142\n",
            "Train Epoch: 2 [19840/60000 (33%)]\tLoss: 0.348675\n",
            "Train Epoch: 2 [20480/60000 (34%)]\tLoss: 0.343122\n",
            "Train Epoch: 2 [21120/60000 (35%)]\tLoss: 0.282946\n",
            "Train Epoch: 2 [21760/60000 (36%)]\tLoss: 0.325825\n",
            "Train Epoch: 2 [22400/60000 (37%)]\tLoss: 0.290938\n",
            "Train Epoch: 2 [23040/60000 (38%)]\tLoss: 0.221931\n",
            "Train Epoch: 2 [23680/60000 (39%)]\tLoss: 0.351703\n",
            "Train Epoch: 2 [24320/60000 (41%)]\tLoss: 0.249971\n",
            "Train Epoch: 2 [24960/60000 (42%)]\tLoss: 0.588137\n",
            "Train Epoch: 2 [25600/60000 (43%)]\tLoss: 0.545162\n",
            "Train Epoch: 2 [26240/60000 (44%)]\tLoss: 0.486185\n",
            "Train Epoch: 2 [26880/60000 (45%)]\tLoss: 0.320635\n",
            "Train Epoch: 2 [27520/60000 (46%)]\tLoss: 0.360728\n",
            "Train Epoch: 2 [28160/60000 (47%)]\tLoss: 0.233832\n",
            "Train Epoch: 2 [28800/60000 (48%)]\tLoss: 0.554993\n",
            "Train Epoch: 2 [29440/60000 (49%)]\tLoss: 0.318888\n",
            "Train Epoch: 2 [30080/60000 (50%)]\tLoss: 0.506788\n",
            "Train Epoch: 2 [30720/60000 (51%)]\tLoss: 0.659225\n",
            "Train Epoch: 2 [31360/60000 (52%)]\tLoss: 0.252390\n",
            "Train Epoch: 2 [32000/60000 (53%)]\tLoss: 0.292441\n",
            "Train Epoch: 2 [32640/60000 (54%)]\tLoss: 0.494937\n",
            "Train Epoch: 2 [33280/60000 (55%)]\tLoss: 0.374826\n",
            "Train Epoch: 2 [33920/60000 (57%)]\tLoss: 0.290013\n",
            "Train Epoch: 2 [34560/60000 (58%)]\tLoss: 0.442181\n",
            "Train Epoch: 2 [35200/60000 (59%)]\tLoss: 0.543293\n",
            "Train Epoch: 2 [35840/60000 (60%)]\tLoss: 0.208862\n",
            "Train Epoch: 2 [36480/60000 (61%)]\tLoss: 0.288977\n",
            "Train Epoch: 2 [37120/60000 (62%)]\tLoss: 0.235021\n",
            "Train Epoch: 2 [37760/60000 (63%)]\tLoss: 0.408586\n",
            "Train Epoch: 2 [38400/60000 (64%)]\tLoss: 0.197440\n",
            "Train Epoch: 2 [39040/60000 (65%)]\tLoss: 0.385466\n",
            "Train Epoch: 2 [39680/60000 (66%)]\tLoss: 0.326645\n",
            "Train Epoch: 2 [40320/60000 (67%)]\tLoss: 0.304414\n",
            "Train Epoch: 2 [40960/60000 (68%)]\tLoss: 0.400252\n",
            "Train Epoch: 2 [41600/60000 (69%)]\tLoss: 0.270587\n",
            "Train Epoch: 2 [42240/60000 (70%)]\tLoss: 0.121366\n",
            "Train Epoch: 2 [42880/60000 (71%)]\tLoss: 0.639993\n",
            "Train Epoch: 2 [43520/60000 (72%)]\tLoss: 0.382197\n",
            "Train Epoch: 2 [44160/60000 (74%)]\tLoss: 0.241653\n",
            "Train Epoch: 2 [44800/60000 (75%)]\tLoss: 0.354908\n",
            "Train Epoch: 2 [45440/60000 (76%)]\tLoss: 0.278457\n",
            "Train Epoch: 2 [46080/60000 (77%)]\tLoss: 0.378601\n",
            "Train Epoch: 2 [46720/60000 (78%)]\tLoss: 0.331702\n",
            "Train Epoch: 2 [47360/60000 (79%)]\tLoss: 0.271104\n",
            "Train Epoch: 2 [48000/60000 (80%)]\tLoss: 0.207850\n",
            "Train Epoch: 2 [48640/60000 (81%)]\tLoss: 0.469875\n",
            "Train Epoch: 2 [49280/60000 (82%)]\tLoss: 0.169801\n",
            "Train Epoch: 2 [49920/60000 (83%)]\tLoss: 0.308181\n",
            "Train Epoch: 2 [50560/60000 (84%)]\tLoss: 0.365474\n",
            "Train Epoch: 2 [51200/60000 (85%)]\tLoss: 0.318052\n",
            "Train Epoch: 2 [51840/60000 (86%)]\tLoss: 0.246148\n",
            "Train Epoch: 2 [52480/60000 (87%)]\tLoss: 0.456621\n",
            "Train Epoch: 2 [53120/60000 (88%)]\tLoss: 0.393896\n",
            "Train Epoch: 2 [53760/60000 (90%)]\tLoss: 0.220468\n",
            "Train Epoch: 2 [54400/60000 (91%)]\tLoss: 0.289116\n",
            "Train Epoch: 2 [55040/60000 (92%)]\tLoss: 0.317314\n",
            "Train Epoch: 2 [55680/60000 (93%)]\tLoss: 0.377685\n",
            "Train Epoch: 2 [56320/60000 (94%)]\tLoss: 0.291214\n",
            "Train Epoch: 2 [56960/60000 (95%)]\tLoss: 0.274982\n",
            "Train Epoch: 2 [57600/60000 (96%)]\tLoss: 0.275585\n",
            "Train Epoch: 2 [58240/60000 (97%)]\tLoss: 0.463483\n",
            "Train Epoch: 2 [58880/60000 (98%)]\tLoss: 0.260393\n",
            "Train Epoch: 2 [59520/60000 (99%)]\tLoss: 0.248691\n",
            "\n",
            "Test set: Avg. loss: 0.1023, Accuracy: 9675/10000 (97%)\n",
            "\n",
            "Train Epoch: 3 [0/60000 (0%)]\tLoss: 0.437835\n",
            "Train Epoch: 3 [640/60000 (1%)]\tLoss: 0.254270\n",
            "Train Epoch: 3 [1280/60000 (2%)]\tLoss: 0.225337\n",
            "Train Epoch: 3 [1920/60000 (3%)]\tLoss: 0.253842\n",
            "Train Epoch: 3 [2560/60000 (4%)]\tLoss: 0.324527\n",
            "Train Epoch: 3 [3200/60000 (5%)]\tLoss: 0.371061\n",
            "Train Epoch: 3 [3840/60000 (6%)]\tLoss: 0.352538\n",
            "Train Epoch: 3 [4480/60000 (7%)]\tLoss: 0.165531\n",
            "Train Epoch: 3 [5120/60000 (9%)]\tLoss: 0.328652\n",
            "Train Epoch: 3 [5760/60000 (10%)]\tLoss: 0.316436\n",
            "Train Epoch: 3 [6400/60000 (11%)]\tLoss: 0.143488\n",
            "Train Epoch: 3 [7040/60000 (12%)]\tLoss: 0.303645\n",
            "Train Epoch: 3 [7680/60000 (13%)]\tLoss: 0.392223\n",
            "Train Epoch: 3 [8320/60000 (14%)]\tLoss: 0.214836\n",
            "Train Epoch: 3 [8960/60000 (15%)]\tLoss: 0.208130\n",
            "Train Epoch: 3 [9600/60000 (16%)]\tLoss: 0.312377\n",
            "Train Epoch: 3 [10240/60000 (17%)]\tLoss: 0.276225\n",
            "Train Epoch: 3 [10880/60000 (18%)]\tLoss: 0.220335\n",
            "Train Epoch: 3 [11520/60000 (19%)]\tLoss: 0.301267\n",
            "Train Epoch: 3 [12160/60000 (20%)]\tLoss: 0.150032\n",
            "Train Epoch: 3 [12800/60000 (21%)]\tLoss: 0.357192\n",
            "Train Epoch: 3 [13440/60000 (22%)]\tLoss: 0.186260\n",
            "Train Epoch: 3 [14080/60000 (23%)]\tLoss: 0.296053\n",
            "Train Epoch: 3 [14720/60000 (25%)]\tLoss: 0.401735\n",
            "Train Epoch: 3 [15360/60000 (26%)]\tLoss: 0.224173\n",
            "Train Epoch: 3 [16000/60000 (27%)]\tLoss: 0.234139\n",
            "Train Epoch: 3 [16640/60000 (28%)]\tLoss: 0.342748\n",
            "Train Epoch: 3 [17280/60000 (29%)]\tLoss: 0.299415\n",
            "Train Epoch: 3 [17920/60000 (30%)]\tLoss: 0.175867\n",
            "Train Epoch: 3 [18560/60000 (31%)]\tLoss: 0.223243\n",
            "Train Epoch: 3 [19200/60000 (32%)]\tLoss: 0.201416\n",
            "Train Epoch: 3 [19840/60000 (33%)]\tLoss: 0.238155\n",
            "Train Epoch: 3 [20480/60000 (34%)]\tLoss: 0.243664\n",
            "Train Epoch: 3 [21120/60000 (35%)]\tLoss: 0.340819\n",
            "Train Epoch: 3 [21760/60000 (36%)]\tLoss: 0.453875\n",
            "Train Epoch: 3 [22400/60000 (37%)]\tLoss: 0.183403\n",
            "Train Epoch: 3 [23040/60000 (38%)]\tLoss: 0.172105\n",
            "Train Epoch: 3 [23680/60000 (39%)]\tLoss: 0.468592\n",
            "Train Epoch: 3 [24320/60000 (41%)]\tLoss: 0.249025\n",
            "Train Epoch: 3 [24960/60000 (42%)]\tLoss: 0.416122\n",
            "Train Epoch: 3 [25600/60000 (43%)]\tLoss: 0.184879\n",
            "Train Epoch: 3 [26240/60000 (44%)]\tLoss: 0.424675\n",
            "Train Epoch: 3 [26880/60000 (45%)]\tLoss: 0.296215\n",
            "Train Epoch: 3 [27520/60000 (46%)]\tLoss: 0.225087\n",
            "Train Epoch: 3 [28160/60000 (47%)]\tLoss: 0.250071\n",
            "Train Epoch: 3 [28800/60000 (48%)]\tLoss: 0.222671\n",
            "Train Epoch: 3 [29440/60000 (49%)]\tLoss: 0.077797\n",
            "Train Epoch: 3 [30080/60000 (50%)]\tLoss: 0.257369\n",
            "Train Epoch: 3 [30720/60000 (51%)]\tLoss: 0.287025\n",
            "Train Epoch: 3 [31360/60000 (52%)]\tLoss: 0.249432\n",
            "Train Epoch: 3 [32000/60000 (53%)]\tLoss: 0.403163\n",
            "Train Epoch: 3 [32640/60000 (54%)]\tLoss: 0.314209\n",
            "Train Epoch: 3 [33280/60000 (55%)]\tLoss: 0.295285\n",
            "Train Epoch: 3 [33920/60000 (57%)]\tLoss: 0.366120\n",
            "Train Epoch: 3 [34560/60000 (58%)]\tLoss: 0.211700\n",
            "Train Epoch: 3 [35200/60000 (59%)]\tLoss: 0.143601\n",
            "Train Epoch: 3 [35840/60000 (60%)]\tLoss: 0.190809\n",
            "Train Epoch: 3 [36480/60000 (61%)]\tLoss: 0.221808\n",
            "Train Epoch: 3 [37120/60000 (62%)]\tLoss: 0.205566\n",
            "Train Epoch: 3 [37760/60000 (63%)]\tLoss: 0.163690\n",
            "Train Epoch: 3 [38400/60000 (64%)]\tLoss: 0.259113\n",
            "Train Epoch: 3 [39040/60000 (65%)]\tLoss: 0.196036\n",
            "Train Epoch: 3 [39680/60000 (66%)]\tLoss: 0.230659\n",
            "Train Epoch: 3 [40320/60000 (67%)]\tLoss: 0.128296\n",
            "Train Epoch: 3 [40960/60000 (68%)]\tLoss: 0.504866\n",
            "Train Epoch: 3 [41600/60000 (69%)]\tLoss: 0.182323\n",
            "Train Epoch: 3 [42240/60000 (70%)]\tLoss: 0.234428\n",
            "Train Epoch: 3 [42880/60000 (71%)]\tLoss: 0.196674\n",
            "Train Epoch: 3 [43520/60000 (72%)]\tLoss: 0.261710\n",
            "Train Epoch: 3 [44160/60000 (74%)]\tLoss: 0.342837\n",
            "Train Epoch: 3 [44800/60000 (75%)]\tLoss: 0.225721\n",
            "Train Epoch: 3 [45440/60000 (76%)]\tLoss: 0.238470\n",
            "Train Epoch: 3 [46080/60000 (77%)]\tLoss: 0.190121\n",
            "Train Epoch: 3 [46720/60000 (78%)]\tLoss: 0.235769\n",
            "Train Epoch: 3 [47360/60000 (79%)]\tLoss: 0.313679\n",
            "Train Epoch: 3 [48000/60000 (80%)]\tLoss: 0.346264\n",
            "Train Epoch: 3 [48640/60000 (81%)]\tLoss: 0.208163\n",
            "Train Epoch: 3 [49280/60000 (82%)]\tLoss: 0.341337\n",
            "Train Epoch: 3 [49920/60000 (83%)]\tLoss: 0.128881\n",
            "Train Epoch: 3 [50560/60000 (84%)]\tLoss: 0.161571\n",
            "Train Epoch: 3 [51200/60000 (85%)]\tLoss: 0.216782\n",
            "Train Epoch: 3 [51840/60000 (86%)]\tLoss: 0.230159\n",
            "Train Epoch: 3 [52480/60000 (87%)]\tLoss: 0.327227\n",
            "Train Epoch: 3 [53120/60000 (88%)]\tLoss: 0.208885\n",
            "Train Epoch: 3 [53760/60000 (90%)]\tLoss: 0.209124\n",
            "Train Epoch: 3 [54400/60000 (91%)]\tLoss: 0.242490\n",
            "Train Epoch: 3 [55040/60000 (92%)]\tLoss: 0.159217\n",
            "Train Epoch: 3 [55680/60000 (93%)]\tLoss: 0.274289\n",
            "Train Epoch: 3 [56320/60000 (94%)]\tLoss: 0.522898\n",
            "Train Epoch: 3 [56960/60000 (95%)]\tLoss: 0.240427\n",
            "Train Epoch: 3 [57600/60000 (96%)]\tLoss: 0.158945\n",
            "Train Epoch: 3 [58240/60000 (97%)]\tLoss: 0.307019\n",
            "Train Epoch: 3 [58880/60000 (98%)]\tLoss: 0.321012\n",
            "Train Epoch: 3 [59520/60000 (99%)]\tLoss: 0.209865\n",
            "\n",
            "Test set: Avg. loss: 0.0867, Accuracy: 9722/10000 (97%)\n",
            "\n"
          ],
          "name": "stdout"
        }
      ]
    },
    {
      "cell_type": "code",
      "metadata": {
        "colab": {
          "base_uri": "https://localhost:8080/"
        },
        "id": "35eTGMTfj3wr",
        "outputId": "7b6e4650-1bd2-403e-a08c-7fd46bfc2a24"
      },
      "source": [
        "test_losses[0:4]\n"
      ],
      "execution_count": null,
      "outputs": [
        {
          "output_type": "execute_result",
          "data": {
            "text/plain": [
              "[2.2853187744140624,\n",
              " 0.1613461601257324,\n",
              " 0.10610107498168946,\n",
              " 0.0915973991394043]"
            ]
          },
          "metadata": {
            "tags": []
          },
          "execution_count": 36
        }
      ]
    },
    {
      "cell_type": "code",
      "metadata": {
        "colab": {
          "base_uri": "https://localhost:8080/",
          "height": 231
        },
        "id": "rZMdGXLZj3ws",
        "outputId": "a5019dfd-e5e7-4f26-9387-d337c453950e"
      },
      "source": [
        "fig = plt.figure()\n",
        "plt.plot(train_counter, train_losses, color='blue')\n",
        "plt.scatter(test_counter, test_losses[0:4], color='red')\n",
        "plt.legend(['Train Loss', 'Test Loss'], loc='upper right')\n",
        "plt.xlabel('number of training examples seen')\n",
        "plt.ylabel('negative log likelihood loss')\n"
      ],
      "execution_count": 32,
      "outputs": [
        {
          "output_type": "error",
          "ename": "NameError",
          "evalue": "ignored",
          "traceback": [
            "\u001b[0;31m---------------------------------------------------------------------------\u001b[0m",
            "\u001b[0;31mNameError\u001b[0m                                 Traceback (most recent call last)",
            "\u001b[0;32m<ipython-input-32-5b9fce87b51b>\u001b[0m in \u001b[0;36m<module>\u001b[0;34m()\u001b[0m\n\u001b[0;32m----> 1\u001b[0;31m \u001b[0mfig\u001b[0m \u001b[0;34m=\u001b[0m \u001b[0mplt\u001b[0m\u001b[0;34m.\u001b[0m\u001b[0mfigure\u001b[0m\u001b[0;34m(\u001b[0m\u001b[0;34m)\u001b[0m\u001b[0;34m\u001b[0m\u001b[0;34m\u001b[0m\u001b[0m\n\u001b[0m\u001b[1;32m      2\u001b[0m \u001b[0mplt\u001b[0m\u001b[0;34m.\u001b[0m\u001b[0mplot\u001b[0m\u001b[0;34m(\u001b[0m\u001b[0mtrain_counter\u001b[0m\u001b[0;34m,\u001b[0m \u001b[0mtrain_losses\u001b[0m\u001b[0;34m,\u001b[0m \u001b[0mcolor\u001b[0m\u001b[0;34m=\u001b[0m\u001b[0;34m'blue'\u001b[0m\u001b[0;34m)\u001b[0m\u001b[0;34m\u001b[0m\u001b[0;34m\u001b[0m\u001b[0m\n\u001b[1;32m      3\u001b[0m \u001b[0mplt\u001b[0m\u001b[0;34m.\u001b[0m\u001b[0mscatter\u001b[0m\u001b[0;34m(\u001b[0m\u001b[0mtest_counter\u001b[0m\u001b[0;34m,\u001b[0m \u001b[0mtest_losses\u001b[0m\u001b[0;34m[\u001b[0m\u001b[0;36m0\u001b[0m\u001b[0;34m:\u001b[0m\u001b[0;36m4\u001b[0m\u001b[0;34m]\u001b[0m\u001b[0;34m,\u001b[0m \u001b[0mcolor\u001b[0m\u001b[0;34m=\u001b[0m\u001b[0;34m'red'\u001b[0m\u001b[0;34m)\u001b[0m\u001b[0;34m\u001b[0m\u001b[0;34m\u001b[0m\u001b[0m\n\u001b[1;32m      4\u001b[0m \u001b[0mplt\u001b[0m\u001b[0;34m.\u001b[0m\u001b[0mlegend\u001b[0m\u001b[0;34m(\u001b[0m\u001b[0;34m[\u001b[0m\u001b[0;34m'Train Loss'\u001b[0m\u001b[0;34m,\u001b[0m \u001b[0;34m'Test Loss'\u001b[0m\u001b[0;34m]\u001b[0m\u001b[0;34m,\u001b[0m \u001b[0mloc\u001b[0m\u001b[0;34m=\u001b[0m\u001b[0;34m'upper right'\u001b[0m\u001b[0;34m)\u001b[0m\u001b[0;34m\u001b[0m\u001b[0;34m\u001b[0m\u001b[0m\n\u001b[1;32m      5\u001b[0m \u001b[0mplt\u001b[0m\u001b[0;34m.\u001b[0m\u001b[0mxlabel\u001b[0m\u001b[0;34m(\u001b[0m\u001b[0;34m'number of training examples seen'\u001b[0m\u001b[0;34m)\u001b[0m\u001b[0;34m\u001b[0m\u001b[0;34m\u001b[0m\u001b[0m\n",
            "\u001b[0;31mNameError\u001b[0m: name 'plt' is not defined"
          ]
        }
      ]
    },
    {
      "cell_type": "code",
      "metadata": {
        "colab": {
          "base_uri": "https://localhost:8080/"
        },
        "id": "Vg-Gw1nvj3ws",
        "outputId": "cef0b211-cf53-4c80-b195-b32457549179"
      },
      "source": [
        "with torch.no_grad():\n",
        "  output = network(example_data)"
      ],
      "execution_count": null,
      "outputs": [
        {
          "output_type": "stream",
          "text": [
            "/usr/local/lib/python3.6/dist-packages/ipykernel_launcher.py:19: UserWarning: Implicit dimension choice for log_softmax has been deprecated. Change the call to include dim=X as an argument.\n"
          ],
          "name": "stderr"
        }
      ]
    },
    {
      "cell_type": "code",
      "metadata": {
        "colab": {
          "base_uri": "https://localhost:8080/",
          "height": 551
        },
        "id": "CpryV_jLj3ws",
        "outputId": "025dca17-3cf4-4451-d409-abd1fa0488ae"
      },
      "source": [
        "fig = plt.figure()\n",
        "for i in range(6):\n",
        "  plt.subplot(2,3,i+1)\n",
        "  plt.tight_layout()\n",
        "  plt.imshow(example_data[i][0], cmap='gray', interpolation='none')\n",
        "  plt.title(\"Prediction: {}\".format(\n",
        "    output.data.max(1, keepdim=True)[1][i].item()))\n",
        "  plt.xticks([])\n",
        "  plt.yticks([])\n",
        "fig"
      ],
      "execution_count": null,
      "outputs": [
        {
          "output_type": "execute_result",
          "data": {
            "image/png": "[encoded data removed]",
            "text/plain": [
              "<Figure size 432x288 with 6 Axes>"
            ]
          },
          "metadata": {
            "tags": []
          },
          "execution_count": 39
        },
        {
          "output_type": "display_data",
          "data": {
            "image/png": "[encoded data removed]",
            "text/plain": [
              "<Figure size 432x288 with 6 Axes>"
            ]
          },
          "metadata": {
            "tags": []
          }
        }
      ]
    },
    {
      "cell_type": "code",
      "metadata": {
        "id": "3Meo2dHlj3wt"
      },
      "source": [
        "network.forward"
      ],
      "execution_count": null,
      "outputs": []
    },
    {
      "cell_type": "code",
      "metadata": {
        "colab": {
          "base_uri": "https://localhost:8080/",
          "height": 387
        },
        "id": "ZTiJlcgDj3wt",
        "outputId": "72e21371-94fb-4b54-e6d2-37f307bebbe1"
      },
      "source": [
        "\n",
        "\n",
        "plot_saliencies=[1,100,200,1000,3000,4000]\n",
        "i=1\n",
        "\n",
        "# code to plot the saliency map as a heatmap\n",
        "for s in plot_saliencies:\n",
        "  plt.subplot(2,3,i)\n",
        "  plt.imshow(saliency(s,network), cmap=plt.cm.hot)\n",
        "\n",
        "  plt.axis('off')\n",
        "  i+=1\n",
        "\n",
        "plt.show()"
      ],
      "execution_count": null,
      "outputs": [
        {
          "output_type": "stream",
          "text": [
            "2\n",
            "6\n",
            "3\n",
            "9\n",
            "6\n",
            "9\n"
          ],
          "name": "stdout"
        },
        {
          "output_type": "stream",
          "text": [
            "/usr/local/lib/python3.6/dist-packages/ipykernel_launcher.py:19: UserWarning: Implicit dimension choice for log_softmax has been deprecated. Change the call to include dim=X as an argument.\n"
          ],
          "name": "stderr"
        },
        {
          "output_type": "display_data",
          "data": {
            "image/png": "[encoded data removed]",
            "text/plain": [
              "<Figure size 432x288 with 6 Axes>"
            ]
          },
          "metadata": {
            "tags": [],
            "needs_background": "light"
          }
        }
      ]
    },
    {
      "cell_type": "code",
      "metadata": {
        "colab": {
          "base_uri": "https://localhost:8080/",
          "height": 248
        },
        "id": "So8CBqDwj3wy",
        "outputId": "f027edb6-5fd7-4d28-d98a-919fbde787b2"
      },
      "source": [
        "i=1\n",
        "for s in plot_saliencies:\n",
        "  plt.subplot(2,3,i)\n",
        "  plt.imshow(test_loader.dataset[s][0].numpy().reshape(28,28), cmap=\"gray\")\n",
        "\n",
        "  plt.axis('off')\n",
        "  i+=1\n",
        "\n",
        "plt.show()"
      ],
      "execution_count": null,
      "outputs": [
        {
          "output_type": "display_data",
          "data": {
            "image/png": "[encoded data removed]",
            "text/plain": [
              "<Figure size 432x288 with 6 Axes>"
            ]
          },
          "metadata": {
            "tags": [],
            "needs_background": "light"
          }
        }
      ]
    },
    {
      "cell_type": "markdown",
      "metadata": {
        "id": "leeRCWPTD38t"
      },
      "source": [
        ""
      ]
    }
  ]
}